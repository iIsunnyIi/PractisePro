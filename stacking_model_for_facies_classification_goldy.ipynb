{
  "nbformat": 4,
  "nbformat_minor": 0,
  "metadata": {
    "kernelspec": {
      "display_name": "Python 3",
      "language": "python",
      "name": "python3"
    },
    "language_info": {
      "codemirror_mode": {
        "name": "ipython",
        "version": 3
      },
      "file_extension": ".py",
      "mimetype": "text/x-python",
      "name": "python",
      "nbconvert_exporter": "python",
      "pygments_lexer": "ipython3",
      "version": "3.7.6"
    },
    "colab": {
      "name": "stacking_model_for_facies_classification-goldy.ipynb",
      "provenance": [],
      "include_colab_link": true
    }
  },
  "cells": [
    {
      "cell_type": "markdown",
      "metadata": {
        "id": "view-in-github",
        "colab_type": "text"
      },
      "source": [
        "<a href=\"https://colab.research.google.com/github/iIsunnyIi/PractisePro/blob/main/stacking_model_for_facies_classification_goldy.ipynb\" target=\"_parent\"><img src=\"https://colab.research.google.com/assets/colab-badge.svg\" alt=\"Open In Colab\"/></a>"
      ]
    },
    {
      "cell_type": "code",
      "metadata": {
        "id": "X5SbgOTOKic0"
      },
      "source": [
        "# Required Imports\n",
        "import pandas as pd\n",
        "#from xgboost import XGBClassifier\n",
        "from sklearn.linear_model import LinearRegression\n",
        "from sklearn.svm import SVC\n",
        "from sklearn.ensemble import RandomForestClassifier\n",
        "from lightgbm import LGBMClassifier\n",
        "#from sklearn import tree\n",
        "from sklearn.model_selection import train_test_split\n",
        "from sklearn.model_selection import RepeatedStratifiedKFold,cross_val_score\n",
        "import numpy as np\n",
        "import pickle "
      ],
      "execution_count": 1,
      "outputs": []
    },
    {
      "cell_type": "code",
      "metadata": {
        "colab": {
          "base_uri": "https://localhost:8080/",
          "height": 442
        },
        "id": "f7fLKen0KidF",
        "outputId": "14b01159-e069-41e1-a008-132c526f6ff0"
      },
      "source": [
        "# Reading data\n",
        "data=pd.read_csv('training_data.csv')\n",
        "\n",
        "data.drop(columns=['Formation','Well Name'], inplace=True) # Dropping categorical data\n",
        "\n",
        "# Dividing Feature and Target columns\n",
        "x=data.drop(columns=['Facies'])\n",
        "y=data['Facies']"
      ],
      "execution_count": 2,
      "outputs": [
        {
          "output_type": "error",
          "ename": "FileNotFoundError",
          "evalue": "ignored",
          "traceback": [
            "\u001b[0;31m---------------------------------------------------------------------------\u001b[0m",
            "\u001b[0;31mFileNotFoundError\u001b[0m                         Traceback (most recent call last)",
            "\u001b[0;32m<ipython-input-2-5a33ee685d92>\u001b[0m in \u001b[0;36m<module>\u001b[0;34m()\u001b[0m\n\u001b[1;32m      1\u001b[0m \u001b[0;31m# Reading data\u001b[0m\u001b[0;34m\u001b[0m\u001b[0;34m\u001b[0m\u001b[0;34m\u001b[0m\u001b[0m\n\u001b[0;32m----> 2\u001b[0;31m \u001b[0mdata\u001b[0m\u001b[0;34m=\u001b[0m\u001b[0mpd\u001b[0m\u001b[0;34m.\u001b[0m\u001b[0mread_csv\u001b[0m\u001b[0;34m(\u001b[0m\u001b[0;34m'training_data.csv'\u001b[0m\u001b[0;34m)\u001b[0m\u001b[0;34m\u001b[0m\u001b[0;34m\u001b[0m\u001b[0m\n\u001b[0m\u001b[1;32m      3\u001b[0m \u001b[0;34m\u001b[0m\u001b[0m\n\u001b[1;32m      4\u001b[0m \u001b[0mdata\u001b[0m\u001b[0;34m.\u001b[0m\u001b[0mdrop\u001b[0m\u001b[0;34m(\u001b[0m\u001b[0mcolumns\u001b[0m\u001b[0;34m=\u001b[0m\u001b[0;34m[\u001b[0m\u001b[0;34m'Formation'\u001b[0m\u001b[0;34m,\u001b[0m\u001b[0;34m'Well Name'\u001b[0m\u001b[0;34m]\u001b[0m\u001b[0;34m,\u001b[0m \u001b[0minplace\u001b[0m\u001b[0;34m=\u001b[0m\u001b[0;32mTrue\u001b[0m\u001b[0;34m)\u001b[0m \u001b[0;31m# Dropping categorical data\u001b[0m\u001b[0;34m\u001b[0m\u001b[0;34m\u001b[0m\u001b[0m\n\u001b[1;32m      5\u001b[0m \u001b[0;34m\u001b[0m\u001b[0m\n",
            "\u001b[0;32m/usr/local/lib/python3.6/dist-packages/pandas/io/parsers.py\u001b[0m in \u001b[0;36mread_csv\u001b[0;34m(filepath_or_buffer, sep, delimiter, header, names, index_col, usecols, squeeze, prefix, mangle_dupe_cols, dtype, engine, converters, true_values, false_values, skipinitialspace, skiprows, skipfooter, nrows, na_values, keep_default_na, na_filter, verbose, skip_blank_lines, parse_dates, infer_datetime_format, keep_date_col, date_parser, dayfirst, cache_dates, iterator, chunksize, compression, thousands, decimal, lineterminator, quotechar, quoting, doublequote, escapechar, comment, encoding, dialect, error_bad_lines, warn_bad_lines, delim_whitespace, low_memory, memory_map, float_precision)\u001b[0m\n\u001b[1;32m    686\u001b[0m     )\n\u001b[1;32m    687\u001b[0m \u001b[0;34m\u001b[0m\u001b[0m\n\u001b[0;32m--> 688\u001b[0;31m     \u001b[0;32mreturn\u001b[0m \u001b[0m_read\u001b[0m\u001b[0;34m(\u001b[0m\u001b[0mfilepath_or_buffer\u001b[0m\u001b[0;34m,\u001b[0m \u001b[0mkwds\u001b[0m\u001b[0;34m)\u001b[0m\u001b[0;34m\u001b[0m\u001b[0;34m\u001b[0m\u001b[0m\n\u001b[0m\u001b[1;32m    689\u001b[0m \u001b[0;34m\u001b[0m\u001b[0m\n\u001b[1;32m    690\u001b[0m \u001b[0;34m\u001b[0m\u001b[0m\n",
            "\u001b[0;32m/usr/local/lib/python3.6/dist-packages/pandas/io/parsers.py\u001b[0m in \u001b[0;36m_read\u001b[0;34m(filepath_or_buffer, kwds)\u001b[0m\n\u001b[1;32m    452\u001b[0m \u001b[0;34m\u001b[0m\u001b[0m\n\u001b[1;32m    453\u001b[0m     \u001b[0;31m# Create the parser.\u001b[0m\u001b[0;34m\u001b[0m\u001b[0;34m\u001b[0m\u001b[0;34m\u001b[0m\u001b[0m\n\u001b[0;32m--> 454\u001b[0;31m     \u001b[0mparser\u001b[0m \u001b[0;34m=\u001b[0m \u001b[0mTextFileReader\u001b[0m\u001b[0;34m(\u001b[0m\u001b[0mfp_or_buf\u001b[0m\u001b[0;34m,\u001b[0m \u001b[0;34m**\u001b[0m\u001b[0mkwds\u001b[0m\u001b[0;34m)\u001b[0m\u001b[0;34m\u001b[0m\u001b[0;34m\u001b[0m\u001b[0m\n\u001b[0m\u001b[1;32m    455\u001b[0m \u001b[0;34m\u001b[0m\u001b[0m\n\u001b[1;32m    456\u001b[0m     \u001b[0;32mif\u001b[0m \u001b[0mchunksize\u001b[0m \u001b[0;32mor\u001b[0m \u001b[0miterator\u001b[0m\u001b[0;34m:\u001b[0m\u001b[0;34m\u001b[0m\u001b[0;34m\u001b[0m\u001b[0m\n",
            "\u001b[0;32m/usr/local/lib/python3.6/dist-packages/pandas/io/parsers.py\u001b[0m in \u001b[0;36m__init__\u001b[0;34m(self, f, engine, **kwds)\u001b[0m\n\u001b[1;32m    946\u001b[0m             \u001b[0mself\u001b[0m\u001b[0;34m.\u001b[0m\u001b[0moptions\u001b[0m\u001b[0;34m[\u001b[0m\u001b[0;34m\"has_index_names\"\u001b[0m\u001b[0;34m]\u001b[0m \u001b[0;34m=\u001b[0m \u001b[0mkwds\u001b[0m\u001b[0;34m[\u001b[0m\u001b[0;34m\"has_index_names\"\u001b[0m\u001b[0;34m]\u001b[0m\u001b[0;34m\u001b[0m\u001b[0;34m\u001b[0m\u001b[0m\n\u001b[1;32m    947\u001b[0m \u001b[0;34m\u001b[0m\u001b[0m\n\u001b[0;32m--> 948\u001b[0;31m         \u001b[0mself\u001b[0m\u001b[0;34m.\u001b[0m\u001b[0m_make_engine\u001b[0m\u001b[0;34m(\u001b[0m\u001b[0mself\u001b[0m\u001b[0;34m.\u001b[0m\u001b[0mengine\u001b[0m\u001b[0;34m)\u001b[0m\u001b[0;34m\u001b[0m\u001b[0;34m\u001b[0m\u001b[0m\n\u001b[0m\u001b[1;32m    949\u001b[0m \u001b[0;34m\u001b[0m\u001b[0m\n\u001b[1;32m    950\u001b[0m     \u001b[0;32mdef\u001b[0m \u001b[0mclose\u001b[0m\u001b[0;34m(\u001b[0m\u001b[0mself\u001b[0m\u001b[0;34m)\u001b[0m\u001b[0;34m:\u001b[0m\u001b[0;34m\u001b[0m\u001b[0;34m\u001b[0m\u001b[0m\n",
            "\u001b[0;32m/usr/local/lib/python3.6/dist-packages/pandas/io/parsers.py\u001b[0m in \u001b[0;36m_make_engine\u001b[0;34m(self, engine)\u001b[0m\n\u001b[1;32m   1178\u001b[0m     \u001b[0;32mdef\u001b[0m \u001b[0m_make_engine\u001b[0m\u001b[0;34m(\u001b[0m\u001b[0mself\u001b[0m\u001b[0;34m,\u001b[0m \u001b[0mengine\u001b[0m\u001b[0;34m=\u001b[0m\u001b[0;34m\"c\"\u001b[0m\u001b[0;34m)\u001b[0m\u001b[0;34m:\u001b[0m\u001b[0;34m\u001b[0m\u001b[0;34m\u001b[0m\u001b[0m\n\u001b[1;32m   1179\u001b[0m         \u001b[0;32mif\u001b[0m \u001b[0mengine\u001b[0m \u001b[0;34m==\u001b[0m \u001b[0;34m\"c\"\u001b[0m\u001b[0;34m:\u001b[0m\u001b[0;34m\u001b[0m\u001b[0;34m\u001b[0m\u001b[0m\n\u001b[0;32m-> 1180\u001b[0;31m             \u001b[0mself\u001b[0m\u001b[0;34m.\u001b[0m\u001b[0m_engine\u001b[0m \u001b[0;34m=\u001b[0m \u001b[0mCParserWrapper\u001b[0m\u001b[0;34m(\u001b[0m\u001b[0mself\u001b[0m\u001b[0;34m.\u001b[0m\u001b[0mf\u001b[0m\u001b[0;34m,\u001b[0m \u001b[0;34m**\u001b[0m\u001b[0mself\u001b[0m\u001b[0;34m.\u001b[0m\u001b[0moptions\u001b[0m\u001b[0;34m)\u001b[0m\u001b[0;34m\u001b[0m\u001b[0;34m\u001b[0m\u001b[0m\n\u001b[0m\u001b[1;32m   1181\u001b[0m         \u001b[0;32melse\u001b[0m\u001b[0;34m:\u001b[0m\u001b[0;34m\u001b[0m\u001b[0;34m\u001b[0m\u001b[0m\n\u001b[1;32m   1182\u001b[0m             \u001b[0;32mif\u001b[0m \u001b[0mengine\u001b[0m \u001b[0;34m==\u001b[0m \u001b[0;34m\"python\"\u001b[0m\u001b[0;34m:\u001b[0m\u001b[0;34m\u001b[0m\u001b[0;34m\u001b[0m\u001b[0m\n",
            "\u001b[0;32m/usr/local/lib/python3.6/dist-packages/pandas/io/parsers.py\u001b[0m in \u001b[0;36m__init__\u001b[0;34m(self, src, **kwds)\u001b[0m\n\u001b[1;32m   2008\u001b[0m         \u001b[0mkwds\u001b[0m\u001b[0;34m[\u001b[0m\u001b[0;34m\"usecols\"\u001b[0m\u001b[0;34m]\u001b[0m \u001b[0;34m=\u001b[0m \u001b[0mself\u001b[0m\u001b[0;34m.\u001b[0m\u001b[0musecols\u001b[0m\u001b[0;34m\u001b[0m\u001b[0;34m\u001b[0m\u001b[0m\n\u001b[1;32m   2009\u001b[0m \u001b[0;34m\u001b[0m\u001b[0m\n\u001b[0;32m-> 2010\u001b[0;31m         \u001b[0mself\u001b[0m\u001b[0;34m.\u001b[0m\u001b[0m_reader\u001b[0m \u001b[0;34m=\u001b[0m \u001b[0mparsers\u001b[0m\u001b[0;34m.\u001b[0m\u001b[0mTextReader\u001b[0m\u001b[0;34m(\u001b[0m\u001b[0msrc\u001b[0m\u001b[0;34m,\u001b[0m \u001b[0;34m**\u001b[0m\u001b[0mkwds\u001b[0m\u001b[0;34m)\u001b[0m\u001b[0;34m\u001b[0m\u001b[0;34m\u001b[0m\u001b[0m\n\u001b[0m\u001b[1;32m   2011\u001b[0m         \u001b[0mself\u001b[0m\u001b[0;34m.\u001b[0m\u001b[0munnamed_cols\u001b[0m \u001b[0;34m=\u001b[0m \u001b[0mself\u001b[0m\u001b[0;34m.\u001b[0m\u001b[0m_reader\u001b[0m\u001b[0;34m.\u001b[0m\u001b[0munnamed_cols\u001b[0m\u001b[0;34m\u001b[0m\u001b[0;34m\u001b[0m\u001b[0m\n\u001b[1;32m   2012\u001b[0m \u001b[0;34m\u001b[0m\u001b[0m\n",
            "\u001b[0;32mpandas/_libs/parsers.pyx\u001b[0m in \u001b[0;36mpandas._libs.parsers.TextReader.__cinit__\u001b[0;34m()\u001b[0m\n",
            "\u001b[0;32mpandas/_libs/parsers.pyx\u001b[0m in \u001b[0;36mpandas._libs.parsers.TextReader._setup_parser_source\u001b[0;34m()\u001b[0m\n",
            "\u001b[0;31mFileNotFoundError\u001b[0m: [Errno 2] No such file or directory: 'training_data.csv'"
          ]
        }
      ]
    },
    {
      "cell_type": "code",
      "metadata": {
        "id": "1KUFRIjeKidH"
      },
      "source": [
        "# Creating model objects\n",
        "#xgb=XGBClassifier()\n",
        "rfr=RandomForestClassifier()\n",
        "svm=SVC()\n",
        "lgbm=LGBMClassifier()"
      ],
      "execution_count": null,
      "outputs": []
    },
    {
      "cell_type": "code",
      "metadata": {
        "id": "pbnJhGb7KidH"
      },
      "source": [
        "# Using Stacking Object\n",
        "def stacking(x,y,meta_alg,algo_list=list):\n",
        "    \n",
        "    ''' x : Feature Columns\n",
        "        y : Target Column\n",
        "        meta_alg : Algorithm which will be used to blend rest of algorithm\n",
        "        algo_list: Base algorithms used in stacking '''\n",
        "    \n",
        "    #spliting data into training set and holding 50 % of data\n",
        "    train,val_train,test,val_test=train_test_split(x,y,test_size=0.5)\n",
        "    \n",
        "    # spliting training data into training and test data\n",
        "    x_train,x_test,y_train,y_test=train_test_split(train,test,test_size=0.2)\n",
        "    \n",
        "    # Here we are creating input data for Meta-Algo\n",
        "    predict=[]\n",
        "    # Fitting base models with train data\n",
        "    for i,algo in enumerate(algo_list):\n",
        "        z=algo.fit(x_train,y_train)\n",
        "        filename='base_model_'+str(i)+'.sav' # Saving Base models\n",
        "        with open(filename,'wb') as f:\n",
        "            pickle.dump(z,f)\n",
        "        # Here we are giving predictions on base models for validation data\n",
        "        i=z.predict(val_train)\n",
        "        predict.append(i)\n",
        "        predict_val=np.column_stack(predict) # Blending all predictions to feed meta-algo\n",
        "    \n",
        "    # Here we are creating input to check accuracy on Trained Meta-Algo\n",
        "    test=[]\n",
        "    for i,algo in enumerate(algo_list):\n",
        "        i=algo.predict(x_test)\n",
        "        test.append(i)\n",
        "        predict_test=np.column_stack(test)\n",
        "        \n",
        "    # Fitting meta algorithm with \n",
        "    model=meta_alg.fit(predict_val,val_test)\n",
        "    \n",
        "    # Uncheck below 3 lines to apply Cross-validation\n",
        "    #cv = RepeatedStratifiedKFold(n_splits=10, n_repeats=3, random_state=1)\n",
        "    #scores = cross_val_score(model, x, y, scoring='accuracy', cv=cv, n_jobs=-1, error_score='raise')\n",
        "    #print(score)\n",
        "    print('Test Score of meta algorithm is', meta_alg.score(predict_test,y_test))\n",
        "    print('Train Score of meta algorithm is', meta_alg.score(predict_val,val_test))\n",
        "    \n",
        "    #Saving Model for \n",
        "    filename='stacking_model.sav'\n",
        "    with open( filename, 'wb') as f:\n",
        "        pickle.dump(model,f)\n",
        "    \n",
        "    return model"
      ],
      "execution_count": null,
      "outputs": []
    },
    {
      "cell_type": "code",
      "metadata": {
        "id": "dN38S1MTKidJ",
        "outputId": "c50f5eab-c7f8-4064-95d6-c971535147b2"
      },
      "source": [
        "stacking(x,y,rfr,[rfr,svm,lgbm])"
      ],
      "execution_count": null,
      "outputs": [
        {
          "output_type": "stream",
          "text": [
            "Test Score of meta algorithm is 0.7623456790123457\n",
            "Train Score of meta algorithm is 0.7784653465346535\n"
          ],
          "name": "stdout"
        },
        {
          "output_type": "execute_result",
          "data": {
            "text/plain": [
              "RandomForestClassifier()"
            ]
          },
          "metadata": {
            "tags": []
          },
          "execution_count": 47
        }
      ]
    },
    {
      "cell_type": "code",
      "metadata": {
        "id": "d5YJYPBfKidL"
      },
      "source": [
        "def predict_single(x):\n",
        "    with open('base_model_0.sav','rb') as f:\n",
        "        base_model_0=pickle.load(f)\n",
        "    with open('base_model_1.sav','rb') as f:\n",
        "        base_model_1=pickle.load(f)\n",
        "    with open('base_model_2.sav','rb') as f:\n",
        "        base_model_2=pickle.load(f)\n",
        "    with open('stacking_model.sav','rb') as f:\n",
        "        stacked_model=pickle.load(f)\n",
        "    \n",
        "    base_models=[base_model_0,base_model_1,base_model_2]\n",
        "    \n",
        "    x=np.array(x).reshape(1,-1)\n",
        "    \n",
        "    test=[]\n",
        "    for i,model in enumerate(base_models):\n",
        "        i=model.predict(x)\n",
        "        test.append(i)\n",
        "        prediction=np.column_stack(test)\n",
        "        \n",
        "    prediction=stacked_model.predict(prediction)\n",
        "    result='Facies type is: {}'.format(prediction[0])\n",
        "    return result\n",
        "        "
      ],
      "execution_count": null,
      "outputs": []
    },
    {
      "cell_type": "code",
      "metadata": {
        "id": "Glf5BsE0KidM",
        "outputId": "9422f661-08c5-4eb6-c5d2-eef1d554a7fc"
      },
      "source": [
        "data.iloc[879,0]"
      ],
      "execution_count": null,
      "outputs": [
        {
          "output_type": "execute_result",
          "data": {
            "text/plain": [
              "6"
            ]
          },
          "metadata": {
            "tags": []
          },
          "execution_count": 49
        }
      ]
    },
    {
      "cell_type": "code",
      "metadata": {
        "id": "bFjvseGhKidN"
      },
      "source": [
        "x=data.iloc[879,1:]"
      ],
      "execution_count": null,
      "outputs": []
    },
    {
      "cell_type": "code",
      "metadata": {
        "id": "eI4ZDOawKidN",
        "outputId": "57518f1f-0c4c-4011-e029-731daa2c4a38"
      },
      "source": [
        "predict_single(x)"
      ],
      "execution_count": null,
      "outputs": [
        {
          "output_type": "execute_result",
          "data": {
            "text/plain": [
              "'Facies type is: 6'"
            ]
          },
          "metadata": {
            "tags": []
          },
          "execution_count": 51
        }
      ]
    },
    {
      "cell_type": "code",
      "metadata": {
        "id": "PpFM-UTPKidO"
      },
      "source": [
        "def predict_multiple(x):\n",
        "    with open('base_model_0.sav','rb') as f:\n",
        "        base_model_0=pickle.load(f)\n",
        "    with open('base_model_1.sav','rb') as f:\n",
        "        base_model_1=pickle.load(f)\n",
        "    with open('base_model_2.sav','rb') as f:\n",
        "        base_model_2=pickle.load(f)\n",
        "    with open('stacking_model.sav','rb') as f:\n",
        "        stacked_model=pickle.load(f)\n",
        "    \n",
        "    base_models=[base_model_0,base_model_1,base_model_2]\n",
        "    \n",
        "    #file=Path_of_file_folder+filename\n",
        "    #data=pd.read(file)\n",
        "    \n",
        "    test=[]\n",
        "    for i,model in enumerate(base_models):\n",
        "        i=model.predict(x)\n",
        "        test.append(i)\n",
        "        prediction=np.column_stack(test)\n",
        "        \n",
        "    prediction=stacked_model.predict(prediction)\n",
        "    \n",
        "    return prediction"
      ],
      "execution_count": null,
      "outputs": []
    },
    {
      "cell_type": "code",
      "metadata": {
        "id": "H_6ps1uJKidP",
        "outputId": "e8d2891f-7abf-42d1-f747-08d65118dab8"
      },
      "source": [
        "x=data.iloc[56:89,1:]\n",
        "x"
      ],
      "execution_count": null,
      "outputs": [
        {
          "output_type": "execute_result",
          "data": {
            "text/html": [
              "<div>\n",
              "<style scoped>\n",
              "    .dataframe tbody tr th:only-of-type {\n",
              "        vertical-align: middle;\n",
              "    }\n",
              "\n",
              "    .dataframe tbody tr th {\n",
              "        vertical-align: top;\n",
              "    }\n",
              "\n",
              "    .dataframe thead th {\n",
              "        text-align: right;\n",
              "    }\n",
              "</style>\n",
              "<table border=\"1\" class=\"dataframe\">\n",
              "  <thead>\n",
              "    <tr style=\"text-align: right;\">\n",
              "      <th></th>\n",
              "      <th>Depth</th>\n",
              "      <th>GR</th>\n",
              "      <th>ILD_log10</th>\n",
              "      <th>DeltaPHI</th>\n",
              "      <th>PHIND</th>\n",
              "      <th>PE</th>\n",
              "      <th>NM_M</th>\n",
              "      <th>RELPOS</th>\n",
              "    </tr>\n",
              "  </thead>\n",
              "  <tbody>\n",
              "    <tr>\n",
              "      <th>56</th>\n",
              "      <td>2821.0</td>\n",
              "      <td>43.67</td>\n",
              "      <td>0.876</td>\n",
              "      <td>3.6</td>\n",
              "      <td>8.225</td>\n",
              "      <td>4.1</td>\n",
              "      <td>2</td>\n",
              "      <td>0.741</td>\n",
              "    </tr>\n",
              "    <tr>\n",
              "      <th>57</th>\n",
              "      <td>2821.5</td>\n",
              "      <td>55.23</td>\n",
              "      <td>0.826</td>\n",
              "      <td>5.1</td>\n",
              "      <td>7.875</td>\n",
              "      <td>4.3</td>\n",
              "      <td>2</td>\n",
              "      <td>0.722</td>\n",
              "    </tr>\n",
              "    <tr>\n",
              "      <th>58</th>\n",
              "      <td>2822.0</td>\n",
              "      <td>61.24</td>\n",
              "      <td>0.777</td>\n",
              "      <td>9.7</td>\n",
              "      <td>8.575</td>\n",
              "      <td>4.3</td>\n",
              "      <td>2</td>\n",
              "      <td>0.704</td>\n",
              "    </tr>\n",
              "    <tr>\n",
              "      <th>59</th>\n",
              "      <td>2822.5</td>\n",
              "      <td>54.46</td>\n",
              "      <td>0.728</td>\n",
              "      <td>12.8</td>\n",
              "      <td>10.660</td>\n",
              "      <td>4.4</td>\n",
              "      <td>2</td>\n",
              "      <td>0.685</td>\n",
              "    </tr>\n",
              "    <tr>\n",
              "      <th>60</th>\n",
              "      <td>2823.0</td>\n",
              "      <td>43.23</td>\n",
              "      <td>0.699</td>\n",
              "      <td>14.9</td>\n",
              "      <td>12.375</td>\n",
              "      <td>4.0</td>\n",
              "      <td>2</td>\n",
              "      <td>0.667</td>\n",
              "    </tr>\n",
              "    <tr>\n",
              "      <th>61</th>\n",
              "      <td>2823.5</td>\n",
              "      <td>44.59</td>\n",
              "      <td>0.682</td>\n",
              "      <td>16.0</td>\n",
              "      <td>13.540</td>\n",
              "      <td>3.9</td>\n",
              "      <td>2</td>\n",
              "      <td>0.648</td>\n",
              "    </tr>\n",
              "    <tr>\n",
              "      <th>62</th>\n",
              "      <td>2824.0</td>\n",
              "      <td>47.48</td>\n",
              "      <td>0.676</td>\n",
              "      <td>16.5</td>\n",
              "      <td>12.890</td>\n",
              "      <td>3.7</td>\n",
              "      <td>2</td>\n",
              "      <td>0.630</td>\n",
              "    </tr>\n",
              "    <tr>\n",
              "      <th>63</th>\n",
              "      <td>2824.5</td>\n",
              "      <td>61.10</td>\n",
              "      <td>0.671</td>\n",
              "      <td>15.2</td>\n",
              "      <td>11.785</td>\n",
              "      <td>3.7</td>\n",
              "      <td>2</td>\n",
              "      <td>0.611</td>\n",
              "    </tr>\n",
              "    <tr>\n",
              "      <th>64</th>\n",
              "      <td>2825.0</td>\n",
              "      <td>64.82</td>\n",
              "      <td>0.680</td>\n",
              "      <td>9.1</td>\n",
              "      <td>8.970</td>\n",
              "      <td>4.5</td>\n",
              "      <td>2</td>\n",
              "      <td>0.574</td>\n",
              "    </tr>\n",
              "    <tr>\n",
              "      <th>65</th>\n",
              "      <td>2825.5</td>\n",
              "      <td>55.77</td>\n",
              "      <td>0.710</td>\n",
              "      <td>6.1</td>\n",
              "      <td>8.930</td>\n",
              "      <td>5.1</td>\n",
              "      <td>2</td>\n",
              "      <td>0.556</td>\n",
              "    </tr>\n",
              "    <tr>\n",
              "      <th>66</th>\n",
              "      <td>2826.0</td>\n",
              "      <td>62.22</td>\n",
              "      <td>0.744</td>\n",
              "      <td>4.3</td>\n",
              "      <td>9.215</td>\n",
              "      <td>5.5</td>\n",
              "      <td>2</td>\n",
              "      <td>0.537</td>\n",
              "    </tr>\n",
              "    <tr>\n",
              "      <th>67</th>\n",
              "      <td>2826.5</td>\n",
              "      <td>55.06</td>\n",
              "      <td>0.786</td>\n",
              "      <td>2.9</td>\n",
              "      <td>9.500</td>\n",
              "      <td>5.6</td>\n",
              "      <td>2</td>\n",
              "      <td>0.519</td>\n",
              "    </tr>\n",
              "    <tr>\n",
              "      <th>68</th>\n",
              "      <td>2827.0</td>\n",
              "      <td>71.02</td>\n",
              "      <td>0.839</td>\n",
              "      <td>3.1</td>\n",
              "      <td>8.890</td>\n",
              "      <td>5.4</td>\n",
              "      <td>2</td>\n",
              "      <td>0.500</td>\n",
              "    </tr>\n",
              "    <tr>\n",
              "      <th>69</th>\n",
              "      <td>2827.5</td>\n",
              "      <td>91.37</td>\n",
              "      <td>0.881</td>\n",
              "      <td>3.9</td>\n",
              "      <td>8.060</td>\n",
              "      <td>5.3</td>\n",
              "      <td>2</td>\n",
              "      <td>0.481</td>\n",
              "    </tr>\n",
              "    <tr>\n",
              "      <th>70</th>\n",
              "      <td>2828.0</td>\n",
              "      <td>115.42</td>\n",
              "      <td>0.911</td>\n",
              "      <td>5.2</td>\n",
              "      <td>6.875</td>\n",
              "      <td>5.3</td>\n",
              "      <td>2</td>\n",
              "      <td>0.463</td>\n",
              "    </tr>\n",
              "    <tr>\n",
              "      <th>71</th>\n",
              "      <td>2828.5</td>\n",
              "      <td>115.70</td>\n",
              "      <td>0.940</td>\n",
              "      <td>5.9</td>\n",
              "      <td>6.085</td>\n",
              "      <td>5.2</td>\n",
              "      <td>2</td>\n",
              "      <td>0.444</td>\n",
              "    </tr>\n",
              "    <tr>\n",
              "      <th>72</th>\n",
              "      <td>2829.0</td>\n",
              "      <td>107.11</td>\n",
              "      <td>0.972</td>\n",
              "      <td>6.0</td>\n",
              "      <td>6.135</td>\n",
              "      <td>5.6</td>\n",
              "      <td>2</td>\n",
              "      <td>0.426</td>\n",
              "    </tr>\n",
              "    <tr>\n",
              "      <th>73</th>\n",
              "      <td>2829.5</td>\n",
              "      <td>93.82</td>\n",
              "      <td>1.008</td>\n",
              "      <td>5.8</td>\n",
              "      <td>6.640</td>\n",
              "      <td>5.6</td>\n",
              "      <td>2</td>\n",
              "      <td>0.407</td>\n",
              "    </tr>\n",
              "    <tr>\n",
              "      <th>74</th>\n",
              "      <td>2830.0</td>\n",
              "      <td>61.63</td>\n",
              "      <td>1.061</td>\n",
              "      <td>3.6</td>\n",
              "      <td>6.865</td>\n",
              "      <td>6.1</td>\n",
              "      <td>2</td>\n",
              "      <td>0.370</td>\n",
              "    </tr>\n",
              "    <tr>\n",
              "      <th>75</th>\n",
              "      <td>2830.5</td>\n",
              "      <td>45.98</td>\n",
              "      <td>1.076</td>\n",
              "      <td>3.6</td>\n",
              "      <td>6.250</td>\n",
              "      <td>6.2</td>\n",
              "      <td>2</td>\n",
              "      <td>0.352</td>\n",
              "    </tr>\n",
              "    <tr>\n",
              "      <th>76</th>\n",
              "      <td>2831.0</td>\n",
              "      <td>32.76</td>\n",
              "      <td>1.071</td>\n",
              "      <td>3.0</td>\n",
              "      <td>6.225</td>\n",
              "      <td>5.8</td>\n",
              "      <td>2</td>\n",
              "      <td>0.333</td>\n",
              "    </tr>\n",
              "    <tr>\n",
              "      <th>77</th>\n",
              "      <td>2831.5</td>\n",
              "      <td>37.82</td>\n",
              "      <td>1.058</td>\n",
              "      <td>3.6</td>\n",
              "      <td>6.190</td>\n",
              "      <td>5.7</td>\n",
              "      <td>2</td>\n",
              "      <td>0.315</td>\n",
              "    </tr>\n",
              "    <tr>\n",
              "      <th>78</th>\n",
              "      <td>2832.0</td>\n",
              "      <td>40.73</td>\n",
              "      <td>1.038</td>\n",
              "      <td>2.3</td>\n",
              "      <td>6.375</td>\n",
              "      <td>5.5</td>\n",
              "      <td>2</td>\n",
              "      <td>0.296</td>\n",
              "    </tr>\n",
              "    <tr>\n",
              "      <th>79</th>\n",
              "      <td>2832.5</td>\n",
              "      <td>33.42</td>\n",
              "      <td>1.005</td>\n",
              "      <td>2.2</td>\n",
              "      <td>6.610</td>\n",
              "      <td>5.4</td>\n",
              "      <td>2</td>\n",
              "      <td>0.278</td>\n",
              "    </tr>\n",
              "    <tr>\n",
              "      <th>80</th>\n",
              "      <td>2833.0</td>\n",
              "      <td>32.08</td>\n",
              "      <td>0.968</td>\n",
              "      <td>2.2</td>\n",
              "      <td>7.355</td>\n",
              "      <td>5.3</td>\n",
              "      <td>2</td>\n",
              "      <td>0.259</td>\n",
              "    </tr>\n",
              "    <tr>\n",
              "      <th>81</th>\n",
              "      <td>2833.5</td>\n",
              "      <td>33.82</td>\n",
              "      <td>0.943</td>\n",
              "      <td>2.1</td>\n",
              "      <td>8.330</td>\n",
              "      <td>4.9</td>\n",
              "      <td>2</td>\n",
              "      <td>0.241</td>\n",
              "    </tr>\n",
              "    <tr>\n",
              "      <th>82</th>\n",
              "      <td>2834.0</td>\n",
              "      <td>45.57</td>\n",
              "      <td>0.924</td>\n",
              "      <td>1.1</td>\n",
              "      <td>8.840</td>\n",
              "      <td>4.7</td>\n",
              "      <td>2</td>\n",
              "      <td>0.222</td>\n",
              "    </tr>\n",
              "    <tr>\n",
              "      <th>83</th>\n",
              "      <td>2834.5</td>\n",
              "      <td>53.95</td>\n",
              "      <td>0.900</td>\n",
              "      <td>1.9</td>\n",
              "      <td>8.125</td>\n",
              "      <td>4.6</td>\n",
              "      <td>2</td>\n",
              "      <td>0.204</td>\n",
              "    </tr>\n",
              "    <tr>\n",
              "      <th>84</th>\n",
              "      <td>2835.0</td>\n",
              "      <td>59.42</td>\n",
              "      <td>0.875</td>\n",
              "      <td>4.3</td>\n",
              "      <td>7.845</td>\n",
              "      <td>4.6</td>\n",
              "      <td>2</td>\n",
              "      <td>0.185</td>\n",
              "    </tr>\n",
              "    <tr>\n",
              "      <th>85</th>\n",
              "      <td>2835.5</td>\n",
              "      <td>68.43</td>\n",
              "      <td>0.854</td>\n",
              "      <td>8.3</td>\n",
              "      <td>8.665</td>\n",
              "      <td>4.8</td>\n",
              "      <td>2</td>\n",
              "      <td>0.167</td>\n",
              "    </tr>\n",
              "    <tr>\n",
              "      <th>86</th>\n",
              "      <td>2836.0</td>\n",
              "      <td>75.88</td>\n",
              "      <td>0.849</td>\n",
              "      <td>11.0</td>\n",
              "      <td>10.040</td>\n",
              "      <td>4.6</td>\n",
              "      <td>2</td>\n",
              "      <td>0.148</td>\n",
              "    </tr>\n",
              "    <tr>\n",
              "      <th>87</th>\n",
              "      <td>2836.5</td>\n",
              "      <td>77.75</td>\n",
              "      <td>0.864</td>\n",
              "      <td>11.3</td>\n",
              "      <td>10.850</td>\n",
              "      <td>4.7</td>\n",
              "      <td>2</td>\n",
              "      <td>0.130</td>\n",
              "    </tr>\n",
              "    <tr>\n",
              "      <th>88</th>\n",
              "      <td>2837.0</td>\n",
              "      <td>80.93</td>\n",
              "      <td>0.907</td>\n",
              "      <td>9.6</td>\n",
              "      <td>9.815</td>\n",
              "      <td>4.6</td>\n",
              "      <td>2</td>\n",
              "      <td>0.111</td>\n",
              "    </tr>\n",
              "  </tbody>\n",
              "</table>\n",
              "</div>"
            ],
            "text/plain": [
              "     Depth      GR  ILD_log10  DeltaPHI   PHIND   PE  NM_M  RELPOS\n",
              "56  2821.0   43.67      0.876       3.6   8.225  4.1     2   0.741\n",
              "57  2821.5   55.23      0.826       5.1   7.875  4.3     2   0.722\n",
              "58  2822.0   61.24      0.777       9.7   8.575  4.3     2   0.704\n",
              "59  2822.5   54.46      0.728      12.8  10.660  4.4     2   0.685\n",
              "60  2823.0   43.23      0.699      14.9  12.375  4.0     2   0.667\n",
              "61  2823.5   44.59      0.682      16.0  13.540  3.9     2   0.648\n",
              "62  2824.0   47.48      0.676      16.5  12.890  3.7     2   0.630\n",
              "63  2824.5   61.10      0.671      15.2  11.785  3.7     2   0.611\n",
              "64  2825.0   64.82      0.680       9.1   8.970  4.5     2   0.574\n",
              "65  2825.5   55.77      0.710       6.1   8.930  5.1     2   0.556\n",
              "66  2826.0   62.22      0.744       4.3   9.215  5.5     2   0.537\n",
              "67  2826.5   55.06      0.786       2.9   9.500  5.6     2   0.519\n",
              "68  2827.0   71.02      0.839       3.1   8.890  5.4     2   0.500\n",
              "69  2827.5   91.37      0.881       3.9   8.060  5.3     2   0.481\n",
              "70  2828.0  115.42      0.911       5.2   6.875  5.3     2   0.463\n",
              "71  2828.5  115.70      0.940       5.9   6.085  5.2     2   0.444\n",
              "72  2829.0  107.11      0.972       6.0   6.135  5.6     2   0.426\n",
              "73  2829.5   93.82      1.008       5.8   6.640  5.6     2   0.407\n",
              "74  2830.0   61.63      1.061       3.6   6.865  6.1     2   0.370\n",
              "75  2830.5   45.98      1.076       3.6   6.250  6.2     2   0.352\n",
              "76  2831.0   32.76      1.071       3.0   6.225  5.8     2   0.333\n",
              "77  2831.5   37.82      1.058       3.6   6.190  5.7     2   0.315\n",
              "78  2832.0   40.73      1.038       2.3   6.375  5.5     2   0.296\n",
              "79  2832.5   33.42      1.005       2.2   6.610  5.4     2   0.278\n",
              "80  2833.0   32.08      0.968       2.2   7.355  5.3     2   0.259\n",
              "81  2833.5   33.82      0.943       2.1   8.330  4.9     2   0.241\n",
              "82  2834.0   45.57      0.924       1.1   8.840  4.7     2   0.222\n",
              "83  2834.5   53.95      0.900       1.9   8.125  4.6     2   0.204\n",
              "84  2835.0   59.42      0.875       4.3   7.845  4.6     2   0.185\n",
              "85  2835.5   68.43      0.854       8.3   8.665  4.8     2   0.167\n",
              "86  2836.0   75.88      0.849      11.0  10.040  4.6     2   0.148\n",
              "87  2836.5   77.75      0.864      11.3  10.850  4.7     2   0.130\n",
              "88  2837.0   80.93      0.907       9.6   9.815  4.6     2   0.111"
            ]
          },
          "metadata": {
            "tags": []
          },
          "execution_count": 53
        }
      ]
    },
    {
      "cell_type": "code",
      "metadata": {
        "id": "HUL39wObKidQ",
        "outputId": "1baab780-ef6b-4364-ef06-5ac540dba28b"
      },
      "source": [
        "predict_multiple(x)"
      ],
      "execution_count": null,
      "outputs": [
        {
          "output_type": "execute_result",
          "data": {
            "text/plain": [
              "array([6, 6, 6, 6, 6, 4, 4, 4, 4, 4, 6, 6, 6, 6, 6, 6, 6, 6, 6, 6, 6, 6,\n",
              "       6, 6, 6, 6, 6, 6, 6, 6, 6, 6, 6], dtype=int64)"
            ]
          },
          "metadata": {
            "tags": []
          },
          "execution_count": 54
        }
      ]
    },
    {
      "cell_type": "code",
      "metadata": {
        "id": "kamlOI9KKidQ",
        "outputId": "a6932eae-75d4-40a7-9cc8-95f16495cd18"
      },
      "source": [
        "data.iloc[56:89,0]"
      ],
      "execution_count": null,
      "outputs": [
        {
          "output_type": "execute_result",
          "data": {
            "text/plain": [
              "56    6\n",
              "57    6\n",
              "58    6\n",
              "59    6\n",
              "60    7\n",
              "61    7\n",
              "62    4\n",
              "63    4\n",
              "64    4\n",
              "65    4\n",
              "66    4\n",
              "67    6\n",
              "68    6\n",
              "69    6\n",
              "70    6\n",
              "71    6\n",
              "72    6\n",
              "73    6\n",
              "74    6\n",
              "75    6\n",
              "76    6\n",
              "77    6\n",
              "78    6\n",
              "79    6\n",
              "80    6\n",
              "81    6\n",
              "82    6\n",
              "83    6\n",
              "84    6\n",
              "85    6\n",
              "86    6\n",
              "87    6\n",
              "88    6\n",
              "Name: Facies, dtype: int64"
            ]
          },
          "metadata": {
            "tags": []
          },
          "execution_count": 55
        }
      ]
    },
    {
      "cell_type": "code",
      "metadata": {
        "id": "4u-CGJlUKidR"
      },
      "source": [
        ""
      ],
      "execution_count": null,
      "outputs": []
    }
  ]
}