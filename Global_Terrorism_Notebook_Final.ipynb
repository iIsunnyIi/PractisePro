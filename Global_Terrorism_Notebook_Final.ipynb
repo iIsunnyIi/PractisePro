{
  "nbformat": 4,
  "nbformat_minor": 0,
  "metadata": {
    "kernelspec": {
      "display_name": "Python 3",
      "language": "python",
      "name": "python3"
    },
    "language_info": {
      "codemirror_mode": {
        "name": "ipython",
        "version": 3
      },
      "file_extension": ".py",
      "mimetype": "text/x-python",
      "name": "python",
      "nbconvert_exporter": "python",
      "pygments_lexer": "ipython3",
      "version": "3.6.1"
    },
    "colab": {
      "name": "Global Terrorism Notebook - Final.ipynb",
      "provenance": [],
      "include_colab_link": true
    }
  },
  "cells": [
    {
      "cell_type": "markdown",
      "metadata": {
        "id": "view-in-github",
        "colab_type": "text"
      },
      "source": [
        "<a href=\"https://colab.research.google.com/github/iIsunnyIi/PractisePro/blob/main/Global_Terrorism_Notebook_Final.ipynb\" target=\"_parent\"><img src=\"https://colab.research.google.com/assets/colab-badge.svg\" alt=\"Open In Colab\"/></a>"
      ]
    },
    {
      "cell_type": "markdown",
      "metadata": {
        "id": "IvPG-VafrE8z"
      },
      "source": [
        "The data consists of over 170,000 cases of terrorism worldwide, documented from 1970 to 2016. Each tuple represents a terrorist attack. Let us see what we can infer from this data. We begin by importing the following libraries:\n",
        "- **matplotlib**: Display graphs/charts\n",
        "- **nltk**: Natural Langauge Processing Toolkit to deal with Text data.\n",
        "- **numpy**: Python's library for mathematical operations\n",
        "- **operator**: Only used once for dictionary sort\n",
        "- **pandas**: Deals with data storage and manipulation in the form of Dataframes. \n",
        "- **Seaborn**: The library that generates the scatterplots, boxplots, histograms"
      ]
    },
    {
      "cell_type": "code",
      "metadata": {
        "collapsed": true,
        "id": "7SPVIp7irE9O"
      },
      "source": [
        "import matplotlib.pyplot as plt\n",
        "import nltk\n",
        "import numpy as np\n",
        "import operator\n",
        "import pandas as pd\n",
        "import seaborn as sns\n",
        "\n",
        "from collections import Counter\n",
        "from nltk.tokenize import PunktSentenceTokenizer\n",
        "from nltk.chunk import RegexpParser"
      ],
      "execution_count": 1,
      "outputs": []
    },
    {
      "cell_type": "code",
      "metadata": {
        "colab": {
          "base_uri": "https://localhost:8080/"
        },
        "id": "WaNgowPzr-cC",
        "outputId": "b05e1993-48da-4790-ac1a-b5e6e3cc7eca"
      },
      "source": [
        "#Mount the drive to colab notebook\n",
        "from google.colab import drive\n",
        "drive.mount('/content/drive')"
      ],
      "execution_count": 2,
      "outputs": [
        {
          "output_type": "stream",
          "text": [
            "Mounted at /content/drive\n"
          ],
          "name": "stdout"
        }
      ]
    },
    {
      "cell_type": "code",
      "metadata": {
        "id": "BfQooTStsMOM"
      },
      "source": [
        "import os\r\n",
        "os.environ['KAGGLE_CONFIG_DIR'] = \"/content/drive/MyDrive/kaggle\"\r\n",
        "# /content/drive/MyDrive/kaggle is the path where kaggle.json is present in the Google Drive"
      ],
      "execution_count": 3,
      "outputs": []
    },
    {
      "cell_type": "code",
      "metadata": {
        "colab": {
          "base_uri": "https://localhost:8080/"
        },
        "id": "zSupHOf4secY",
        "outputId": "08cd0190-0cc3-4446-f3f8-416ecb45a978"
      },
      "source": [
        "#changing the working directory\r\n",
        "cd /content/drive/MyDrive/kaggle"
      ],
      "execution_count": 10,
      "outputs": [
        {
          "output_type": "stream",
          "text": [
            "/content/drive/MyDrive/kaggle\n"
          ],
          "name": "stdout"
        }
      ]
    },
    {
      "cell_type": "code",
      "metadata": {
        "colab": {
          "base_uri": "https://localhost:8080/"
        },
        "id": "Zpad-YMmtXLg",
        "outputId": "98a5508b-5bf8-42f6-8dbb-dc7eaa88f7aa"
      },
      "source": [
        "#Check the present working directory using pwd command\r\n",
        "!pwd"
      ],
      "execution_count": 15,
      "outputs": [
        {
          "output_type": "stream",
          "text": [
            "/content/drive/My Drive/kaggle\n"
          ],
          "name": "stdout"
        }
      ]
    },
    {
      "cell_type": "code",
      "metadata": {
        "colab": {
          "base_uri": "https://localhost:8080/"
        },
        "id": "eggu8a18swfb",
        "outputId": "376f1255-c44d-462c-90f2-33de757c58ce"
      },
      "source": [
        "#Go to kaggle and copy the API Command to download the dataset\r\n",
        "#Your API Command will look like “kaggle datasets download -d START-UMD/gtd”\r\n",
        "#Run the following code using ! :\r\n",
        "!kaggle datasets download -d START-UMD/gtd"
      ],
      "execution_count": 11,
      "outputs": [
        {
          "output_type": "stream",
          "text": [
            "Downloading gtd.zip to /content/drive/MyDrive/kaggle\n",
            "\r  0% 0.00/28.7M [00:00<?, ?B/s]\r 77% 22.0M/28.7M [00:00<00:00, 226MB/s]\n",
            "\r100% 28.7M/28.7M [00:00<00:00, 183MB/s]\n"
          ],
          "name": "stdout"
        }
      ]
    },
    {
      "cell_type": "code",
      "metadata": {
        "colab": {
          "base_uri": "https://localhost:8080/"
        },
        "id": "v8kUY37wuGSh",
        "outputId": "a83a2e34-884a-49be-858a-cdb4907d11bb"
      },
      "source": [
        "#You can check the content in your directory using ls command as follows:\r\n",
        "!ls"
      ],
      "execution_count": 16,
      "outputs": [
        {
          "output_type": "stream",
          "text": [
            "globalterrorismdb_0718dist.csv\tkaggle.json\n"
          ],
          "name": "stdout"
        }
      ]
    },
    {
      "cell_type": "code",
      "metadata": {
        "colab": {
          "base_uri": "https://localhost:8080/"
        },
        "id": "5XRHRhTUtN3t",
        "outputId": "5741619e-6f8b-4973-c447-5101a5021d11"
      },
      "source": [
        "#unzipping the zip files and deleting the zip files\r\n",
        "#Use the unzip and rm command\r\n",
        "!unzip \\*.zip  && rm *.zip"
      ],
      "execution_count": 13,
      "outputs": [
        {
          "output_type": "stream",
          "text": [
            "Archive:  gtd.zip\n",
            "  inflating: globalterrorismdb_0718dist.csv  \n"
          ],
          "name": "stdout"
        }
      ]
    },
    {
      "cell_type": "code",
      "metadata": {
        "id": "kVwjVGjRuT9u"
      },
      "source": [
        "#That’s all folks …Now you can use the extracted .csv files with ease directly from your Google Drive."
      ],
      "execution_count": null,
      "outputs": []
    },
    {
      "cell_type": "markdown",
      "metadata": {
        "id": "hJMrqHO7rE9S"
      },
      "source": [
        "In NLTK, we also include: \n",
        "- **PunctSentenceTokenizer:** to split a paragraph into constitutent sentences\n",
        "- **RegexpParser:** To perform chunking of words and recognize key phrases. More on this later.\n",
        "\n",
        "We now read the csv file into a Data Frame and display the first 5 rows for reference."
      ]
    },
    {
      "cell_type": "code",
      "metadata": {
        "colab": {
          "base_uri": "https://localhost:8080/",
          "height": 372
        },
        "id": "cZnmYYk0rE9V",
        "outputId": "09a6f7a5-004e-4968-d0e1-12cc11c3b892"
      },
      "source": [
        "data = pd.read_csv('globalterrorismdb_0718dist.csv', encoding=\"ISO-8859-1\", low_memory=False)\n",
        "data.head(n=5)"
      ],
      "execution_count": 18,
      "outputs": [
        {
          "output_type": "execute_result",
          "data": {
            "text/html": [
              "<div>\n",
              "<style scoped>\n",
              "    .dataframe tbody tr th:only-of-type {\n",
              "        vertical-align: middle;\n",
              "    }\n",
              "\n",
              "    .dataframe tbody tr th {\n",
              "        vertical-align: top;\n",
              "    }\n",
              "\n",
              "    .dataframe thead th {\n",
              "        text-align: right;\n",
              "    }\n",
              "</style>\n",
              "<table border=\"1\" class=\"dataframe\">\n",
              "  <thead>\n",
              "    <tr style=\"text-align: right;\">\n",
              "      <th></th>\n",
              "      <th>eventid</th>\n",
              "      <th>iyear</th>\n",
              "      <th>imonth</th>\n",
              "      <th>iday</th>\n",
              "      <th>approxdate</th>\n",
              "      <th>extended</th>\n",
              "      <th>resolution</th>\n",
              "      <th>country</th>\n",
              "      <th>country_txt</th>\n",
              "      <th>region</th>\n",
              "      <th>region_txt</th>\n",
              "      <th>provstate</th>\n",
              "      <th>city</th>\n",
              "      <th>latitude</th>\n",
              "      <th>longitude</th>\n",
              "      <th>specificity</th>\n",
              "      <th>vicinity</th>\n",
              "      <th>location</th>\n",
              "      <th>summary</th>\n",
              "      <th>crit1</th>\n",
              "      <th>crit2</th>\n",
              "      <th>crit3</th>\n",
              "      <th>doubtterr</th>\n",
              "      <th>alternative</th>\n",
              "      <th>alternative_txt</th>\n",
              "      <th>multiple</th>\n",
              "      <th>success</th>\n",
              "      <th>suicide</th>\n",
              "      <th>attacktype1</th>\n",
              "      <th>attacktype1_txt</th>\n",
              "      <th>attacktype2</th>\n",
              "      <th>attacktype2_txt</th>\n",
              "      <th>attacktype3</th>\n",
              "      <th>attacktype3_txt</th>\n",
              "      <th>targtype1</th>\n",
              "      <th>targtype1_txt</th>\n",
              "      <th>targsubtype1</th>\n",
              "      <th>targsubtype1_txt</th>\n",
              "      <th>corp1</th>\n",
              "      <th>target1</th>\n",
              "      <th>...</th>\n",
              "      <th>weapsubtype4</th>\n",
              "      <th>weapsubtype4_txt</th>\n",
              "      <th>weapdetail</th>\n",
              "      <th>nkill</th>\n",
              "      <th>nkillus</th>\n",
              "      <th>nkillter</th>\n",
              "      <th>nwound</th>\n",
              "      <th>nwoundus</th>\n",
              "      <th>nwoundte</th>\n",
              "      <th>property</th>\n",
              "      <th>propextent</th>\n",
              "      <th>propextent_txt</th>\n",
              "      <th>propvalue</th>\n",
              "      <th>propcomment</th>\n",
              "      <th>ishostkid</th>\n",
              "      <th>nhostkid</th>\n",
              "      <th>nhostkidus</th>\n",
              "      <th>nhours</th>\n",
              "      <th>ndays</th>\n",
              "      <th>divert</th>\n",
              "      <th>kidhijcountry</th>\n",
              "      <th>ransom</th>\n",
              "      <th>ransomamt</th>\n",
              "      <th>ransomamtus</th>\n",
              "      <th>ransompaid</th>\n",
              "      <th>ransompaidus</th>\n",
              "      <th>ransomnote</th>\n",
              "      <th>hostkidoutcome</th>\n",
              "      <th>hostkidoutcome_txt</th>\n",
              "      <th>nreleased</th>\n",
              "      <th>addnotes</th>\n",
              "      <th>scite1</th>\n",
              "      <th>scite2</th>\n",
              "      <th>scite3</th>\n",
              "      <th>dbsource</th>\n",
              "      <th>INT_LOG</th>\n",
              "      <th>INT_IDEO</th>\n",
              "      <th>INT_MISC</th>\n",
              "      <th>INT_ANY</th>\n",
              "      <th>related</th>\n",
              "    </tr>\n",
              "  </thead>\n",
              "  <tbody>\n",
              "    <tr>\n",
              "      <th>0</th>\n",
              "      <td>197000000001</td>\n",
              "      <td>1970</td>\n",
              "      <td>7</td>\n",
              "      <td>2</td>\n",
              "      <td>NaN</td>\n",
              "      <td>0</td>\n",
              "      <td>NaN</td>\n",
              "      <td>58</td>\n",
              "      <td>Dominican Republic</td>\n",
              "      <td>2</td>\n",
              "      <td>Central America &amp; Caribbean</td>\n",
              "      <td>NaN</td>\n",
              "      <td>Santo Domingo</td>\n",
              "      <td>18.456792</td>\n",
              "      <td>-69.951164</td>\n",
              "      <td>1.0</td>\n",
              "      <td>0</td>\n",
              "      <td>NaN</td>\n",
              "      <td>NaN</td>\n",
              "      <td>1</td>\n",
              "      <td>1</td>\n",
              "      <td>1</td>\n",
              "      <td>0.0</td>\n",
              "      <td>NaN</td>\n",
              "      <td>NaN</td>\n",
              "      <td>0.0</td>\n",
              "      <td>1</td>\n",
              "      <td>0</td>\n",
              "      <td>1</td>\n",
              "      <td>Assassination</td>\n",
              "      <td>NaN</td>\n",
              "      <td>NaN</td>\n",
              "      <td>NaN</td>\n",
              "      <td>NaN</td>\n",
              "      <td>14</td>\n",
              "      <td>Private Citizens &amp; Property</td>\n",
              "      <td>68.0</td>\n",
              "      <td>Named Civilian</td>\n",
              "      <td>NaN</td>\n",
              "      <td>Julio Guzman</td>\n",
              "      <td>...</td>\n",
              "      <td>NaN</td>\n",
              "      <td>NaN</td>\n",
              "      <td>NaN</td>\n",
              "      <td>1.0</td>\n",
              "      <td>NaN</td>\n",
              "      <td>NaN</td>\n",
              "      <td>0.0</td>\n",
              "      <td>NaN</td>\n",
              "      <td>NaN</td>\n",
              "      <td>0</td>\n",
              "      <td>NaN</td>\n",
              "      <td>NaN</td>\n",
              "      <td>NaN</td>\n",
              "      <td>NaN</td>\n",
              "      <td>0.0</td>\n",
              "      <td>NaN</td>\n",
              "      <td>NaN</td>\n",
              "      <td>NaN</td>\n",
              "      <td>NaN</td>\n",
              "      <td>NaN</td>\n",
              "      <td>NaN</td>\n",
              "      <td>0.0</td>\n",
              "      <td>NaN</td>\n",
              "      <td>NaN</td>\n",
              "      <td>NaN</td>\n",
              "      <td>NaN</td>\n",
              "      <td>NaN</td>\n",
              "      <td>NaN</td>\n",
              "      <td>NaN</td>\n",
              "      <td>NaN</td>\n",
              "      <td>NaN</td>\n",
              "      <td>NaN</td>\n",
              "      <td>NaN</td>\n",
              "      <td>NaN</td>\n",
              "      <td>PGIS</td>\n",
              "      <td>0</td>\n",
              "      <td>0</td>\n",
              "      <td>0</td>\n",
              "      <td>0</td>\n",
              "      <td>NaN</td>\n",
              "    </tr>\n",
              "    <tr>\n",
              "      <th>1</th>\n",
              "      <td>197000000002</td>\n",
              "      <td>1970</td>\n",
              "      <td>0</td>\n",
              "      <td>0</td>\n",
              "      <td>NaN</td>\n",
              "      <td>0</td>\n",
              "      <td>NaN</td>\n",
              "      <td>130</td>\n",
              "      <td>Mexico</td>\n",
              "      <td>1</td>\n",
              "      <td>North America</td>\n",
              "      <td>Federal</td>\n",
              "      <td>Mexico city</td>\n",
              "      <td>19.371887</td>\n",
              "      <td>-99.086624</td>\n",
              "      <td>1.0</td>\n",
              "      <td>0</td>\n",
              "      <td>NaN</td>\n",
              "      <td>NaN</td>\n",
              "      <td>1</td>\n",
              "      <td>1</td>\n",
              "      <td>1</td>\n",
              "      <td>0.0</td>\n",
              "      <td>NaN</td>\n",
              "      <td>NaN</td>\n",
              "      <td>0.0</td>\n",
              "      <td>1</td>\n",
              "      <td>0</td>\n",
              "      <td>6</td>\n",
              "      <td>Hostage Taking (Kidnapping)</td>\n",
              "      <td>NaN</td>\n",
              "      <td>NaN</td>\n",
              "      <td>NaN</td>\n",
              "      <td>NaN</td>\n",
              "      <td>7</td>\n",
              "      <td>Government (Diplomatic)</td>\n",
              "      <td>45.0</td>\n",
              "      <td>Diplomatic Personnel (outside of embassy, cons...</td>\n",
              "      <td>Belgian Ambassador Daughter</td>\n",
              "      <td>Nadine Chaval, daughter</td>\n",
              "      <td>...</td>\n",
              "      <td>NaN</td>\n",
              "      <td>NaN</td>\n",
              "      <td>NaN</td>\n",
              "      <td>0.0</td>\n",
              "      <td>NaN</td>\n",
              "      <td>NaN</td>\n",
              "      <td>0.0</td>\n",
              "      <td>NaN</td>\n",
              "      <td>NaN</td>\n",
              "      <td>0</td>\n",
              "      <td>NaN</td>\n",
              "      <td>NaN</td>\n",
              "      <td>NaN</td>\n",
              "      <td>NaN</td>\n",
              "      <td>1.0</td>\n",
              "      <td>1.0</td>\n",
              "      <td>0.0</td>\n",
              "      <td>NaN</td>\n",
              "      <td>NaN</td>\n",
              "      <td>NaN</td>\n",
              "      <td>Mexico</td>\n",
              "      <td>1.0</td>\n",
              "      <td>800000.0</td>\n",
              "      <td>NaN</td>\n",
              "      <td>NaN</td>\n",
              "      <td>NaN</td>\n",
              "      <td>NaN</td>\n",
              "      <td>NaN</td>\n",
              "      <td>NaN</td>\n",
              "      <td>NaN</td>\n",
              "      <td>NaN</td>\n",
              "      <td>NaN</td>\n",
              "      <td>NaN</td>\n",
              "      <td>NaN</td>\n",
              "      <td>PGIS</td>\n",
              "      <td>0</td>\n",
              "      <td>1</td>\n",
              "      <td>1</td>\n",
              "      <td>1</td>\n",
              "      <td>NaN</td>\n",
              "    </tr>\n",
              "    <tr>\n",
              "      <th>2</th>\n",
              "      <td>197001000001</td>\n",
              "      <td>1970</td>\n",
              "      <td>1</td>\n",
              "      <td>0</td>\n",
              "      <td>NaN</td>\n",
              "      <td>0</td>\n",
              "      <td>NaN</td>\n",
              "      <td>160</td>\n",
              "      <td>Philippines</td>\n",
              "      <td>5</td>\n",
              "      <td>Southeast Asia</td>\n",
              "      <td>Tarlac</td>\n",
              "      <td>Unknown</td>\n",
              "      <td>15.478598</td>\n",
              "      <td>120.599741</td>\n",
              "      <td>4.0</td>\n",
              "      <td>0</td>\n",
              "      <td>NaN</td>\n",
              "      <td>NaN</td>\n",
              "      <td>1</td>\n",
              "      <td>1</td>\n",
              "      <td>1</td>\n",
              "      <td>0.0</td>\n",
              "      <td>NaN</td>\n",
              "      <td>NaN</td>\n",
              "      <td>0.0</td>\n",
              "      <td>1</td>\n",
              "      <td>0</td>\n",
              "      <td>1</td>\n",
              "      <td>Assassination</td>\n",
              "      <td>NaN</td>\n",
              "      <td>NaN</td>\n",
              "      <td>NaN</td>\n",
              "      <td>NaN</td>\n",
              "      <td>10</td>\n",
              "      <td>Journalists &amp; Media</td>\n",
              "      <td>54.0</td>\n",
              "      <td>Radio Journalist/Staff/Facility</td>\n",
              "      <td>Voice of America</td>\n",
              "      <td>Employee</td>\n",
              "      <td>...</td>\n",
              "      <td>NaN</td>\n",
              "      <td>NaN</td>\n",
              "      <td>NaN</td>\n",
              "      <td>1.0</td>\n",
              "      <td>NaN</td>\n",
              "      <td>NaN</td>\n",
              "      <td>0.0</td>\n",
              "      <td>NaN</td>\n",
              "      <td>NaN</td>\n",
              "      <td>0</td>\n",
              "      <td>NaN</td>\n",
              "      <td>NaN</td>\n",
              "      <td>NaN</td>\n",
              "      <td>NaN</td>\n",
              "      <td>0.0</td>\n",
              "      <td>NaN</td>\n",
              "      <td>NaN</td>\n",
              "      <td>NaN</td>\n",
              "      <td>NaN</td>\n",
              "      <td>NaN</td>\n",
              "      <td>NaN</td>\n",
              "      <td>0.0</td>\n",
              "      <td>NaN</td>\n",
              "      <td>NaN</td>\n",
              "      <td>NaN</td>\n",
              "      <td>NaN</td>\n",
              "      <td>NaN</td>\n",
              "      <td>NaN</td>\n",
              "      <td>NaN</td>\n",
              "      <td>NaN</td>\n",
              "      <td>NaN</td>\n",
              "      <td>NaN</td>\n",
              "      <td>NaN</td>\n",
              "      <td>NaN</td>\n",
              "      <td>PGIS</td>\n",
              "      <td>-9</td>\n",
              "      <td>-9</td>\n",
              "      <td>1</td>\n",
              "      <td>1</td>\n",
              "      <td>NaN</td>\n",
              "    </tr>\n",
              "    <tr>\n",
              "      <th>3</th>\n",
              "      <td>197001000002</td>\n",
              "      <td>1970</td>\n",
              "      <td>1</td>\n",
              "      <td>0</td>\n",
              "      <td>NaN</td>\n",
              "      <td>0</td>\n",
              "      <td>NaN</td>\n",
              "      <td>78</td>\n",
              "      <td>Greece</td>\n",
              "      <td>8</td>\n",
              "      <td>Western Europe</td>\n",
              "      <td>Attica</td>\n",
              "      <td>Athens</td>\n",
              "      <td>37.997490</td>\n",
              "      <td>23.762728</td>\n",
              "      <td>1.0</td>\n",
              "      <td>0</td>\n",
              "      <td>NaN</td>\n",
              "      <td>NaN</td>\n",
              "      <td>1</td>\n",
              "      <td>1</td>\n",
              "      <td>1</td>\n",
              "      <td>0.0</td>\n",
              "      <td>NaN</td>\n",
              "      <td>NaN</td>\n",
              "      <td>0.0</td>\n",
              "      <td>1</td>\n",
              "      <td>0</td>\n",
              "      <td>3</td>\n",
              "      <td>Bombing/Explosion</td>\n",
              "      <td>NaN</td>\n",
              "      <td>NaN</td>\n",
              "      <td>NaN</td>\n",
              "      <td>NaN</td>\n",
              "      <td>7</td>\n",
              "      <td>Government (Diplomatic)</td>\n",
              "      <td>46.0</td>\n",
              "      <td>Embassy/Consulate</td>\n",
              "      <td>NaN</td>\n",
              "      <td>U.S. Embassy</td>\n",
              "      <td>...</td>\n",
              "      <td>NaN</td>\n",
              "      <td>NaN</td>\n",
              "      <td>Explosive</td>\n",
              "      <td>NaN</td>\n",
              "      <td>NaN</td>\n",
              "      <td>NaN</td>\n",
              "      <td>NaN</td>\n",
              "      <td>NaN</td>\n",
              "      <td>NaN</td>\n",
              "      <td>1</td>\n",
              "      <td>NaN</td>\n",
              "      <td>NaN</td>\n",
              "      <td>NaN</td>\n",
              "      <td>NaN</td>\n",
              "      <td>0.0</td>\n",
              "      <td>NaN</td>\n",
              "      <td>NaN</td>\n",
              "      <td>NaN</td>\n",
              "      <td>NaN</td>\n",
              "      <td>NaN</td>\n",
              "      <td>NaN</td>\n",
              "      <td>0.0</td>\n",
              "      <td>NaN</td>\n",
              "      <td>NaN</td>\n",
              "      <td>NaN</td>\n",
              "      <td>NaN</td>\n",
              "      <td>NaN</td>\n",
              "      <td>NaN</td>\n",
              "      <td>NaN</td>\n",
              "      <td>NaN</td>\n",
              "      <td>NaN</td>\n",
              "      <td>NaN</td>\n",
              "      <td>NaN</td>\n",
              "      <td>NaN</td>\n",
              "      <td>PGIS</td>\n",
              "      <td>-9</td>\n",
              "      <td>-9</td>\n",
              "      <td>1</td>\n",
              "      <td>1</td>\n",
              "      <td>NaN</td>\n",
              "    </tr>\n",
              "    <tr>\n",
              "      <th>4</th>\n",
              "      <td>197001000003</td>\n",
              "      <td>1970</td>\n",
              "      <td>1</td>\n",
              "      <td>0</td>\n",
              "      <td>NaN</td>\n",
              "      <td>0</td>\n",
              "      <td>NaN</td>\n",
              "      <td>101</td>\n",
              "      <td>Japan</td>\n",
              "      <td>4</td>\n",
              "      <td>East Asia</td>\n",
              "      <td>Fukouka</td>\n",
              "      <td>Fukouka</td>\n",
              "      <td>33.580412</td>\n",
              "      <td>130.396361</td>\n",
              "      <td>1.0</td>\n",
              "      <td>0</td>\n",
              "      <td>NaN</td>\n",
              "      <td>NaN</td>\n",
              "      <td>1</td>\n",
              "      <td>1</td>\n",
              "      <td>1</td>\n",
              "      <td>-9.0</td>\n",
              "      <td>NaN</td>\n",
              "      <td>NaN</td>\n",
              "      <td>0.0</td>\n",
              "      <td>1</td>\n",
              "      <td>0</td>\n",
              "      <td>7</td>\n",
              "      <td>Facility/Infrastructure Attack</td>\n",
              "      <td>NaN</td>\n",
              "      <td>NaN</td>\n",
              "      <td>NaN</td>\n",
              "      <td>NaN</td>\n",
              "      <td>7</td>\n",
              "      <td>Government (Diplomatic)</td>\n",
              "      <td>46.0</td>\n",
              "      <td>Embassy/Consulate</td>\n",
              "      <td>NaN</td>\n",
              "      <td>U.S. Consulate</td>\n",
              "      <td>...</td>\n",
              "      <td>NaN</td>\n",
              "      <td>NaN</td>\n",
              "      <td>Incendiary</td>\n",
              "      <td>NaN</td>\n",
              "      <td>NaN</td>\n",
              "      <td>NaN</td>\n",
              "      <td>NaN</td>\n",
              "      <td>NaN</td>\n",
              "      <td>NaN</td>\n",
              "      <td>1</td>\n",
              "      <td>NaN</td>\n",
              "      <td>NaN</td>\n",
              "      <td>NaN</td>\n",
              "      <td>NaN</td>\n",
              "      <td>0.0</td>\n",
              "      <td>NaN</td>\n",
              "      <td>NaN</td>\n",
              "      <td>NaN</td>\n",
              "      <td>NaN</td>\n",
              "      <td>NaN</td>\n",
              "      <td>NaN</td>\n",
              "      <td>0.0</td>\n",
              "      <td>NaN</td>\n",
              "      <td>NaN</td>\n",
              "      <td>NaN</td>\n",
              "      <td>NaN</td>\n",
              "      <td>NaN</td>\n",
              "      <td>NaN</td>\n",
              "      <td>NaN</td>\n",
              "      <td>NaN</td>\n",
              "      <td>NaN</td>\n",
              "      <td>NaN</td>\n",
              "      <td>NaN</td>\n",
              "      <td>NaN</td>\n",
              "      <td>PGIS</td>\n",
              "      <td>-9</td>\n",
              "      <td>-9</td>\n",
              "      <td>1</td>\n",
              "      <td>1</td>\n",
              "      <td>NaN</td>\n",
              "    </tr>\n",
              "  </tbody>\n",
              "</table>\n",
              "<p>5 rows × 135 columns</p>\n",
              "</div>"
            ],
            "text/plain": [
              "        eventid  iyear  imonth  iday  ... INT_IDEO  INT_MISC INT_ANY  related\n",
              "0  197000000001   1970       7     2  ...        0         0       0      NaN\n",
              "1  197000000002   1970       0     0  ...        1         1       1      NaN\n",
              "2  197001000001   1970       1     0  ...       -9         1       1      NaN\n",
              "3  197001000002   1970       1     0  ...       -9         1       1      NaN\n",
              "4  197001000003   1970       1     0  ...       -9         1       1      NaN\n",
              "\n",
              "[5 rows x 135 columns]"
            ]
          },
          "metadata": {
            "tags": []
          },
          "execution_count": 18
        }
      ]
    },
    {
      "cell_type": "markdown",
      "metadata": {
        "id": "1pRbLfy1rE9a"
      },
      "source": [
        "I include a _low memory_ argument to prevent mixed types assigned to a given column. It is mostly advised to used the dtype argument and specify the type for each column name. However, since there are 135 columns, most of which I do not know much about, I'm going by the lazy approach and setting low_memory to False.\n",
        "\n",
        "Pulling this data up on Excel, we see Half of them are numerically encoded column values while the others are Text forms of the same. Just looking at this data, I feel like I can answer a number of questions:\n",
        "1. Where exactly have the terrorist attacks taken place?\n",
        "2. In these regions, can we plot a time series chart to show how much terrorism has increased/decreased?\n",
        "3. Analyze Text data summary, to understand some more details not specified by other columns.\n",
        "4. What was the nature of the Terrorist attacks in a particular country/state over the years? (From attacktype_1, attacktype_2 and attacktype_3)\n",
        "5. What/Who was the target of their assault? (targtype)\n",
        "6. Can we get more details from 5? Like what _exactly_ was the type of institution being targetted? (targsubtype)\n",
        "7. Analyze Text data on motive to understand why the terrorist attack was carried out.\n",
        "8. What weapons were used in the assault? (weaptype1 - 4) Can we get more details on the exact weapons? (weapsubtype)\n",
        "9. Overall Price of property destroyed? (propvalue)\n",
        "10. Who were these terrorists? (gname)\n",
        "11. What propery was actually destroyed? (propcomment)\n",
        "12. In the kidnapping situations, were the hostages released? \n",
        "13. Analyze Text data on addnotes. What else can we infer from the data?"
      ]
    },
    {
      "cell_type": "markdown",
      "metadata": {
        "id": "pgDs8DtqrE9c"
      },
      "source": [
        "These are just a handful of questions I came up with off the top of my head. We can possibly find more information, given time. It is easy to get lost in this wealth of data. Instead of boiling the ocean at the surface, I will delve into a single aspect. So, where do we start? Let us take a look at the countries that are the most targetted."
      ]
    },
    {
      "cell_type": "code",
      "metadata": {
        "colab": {
          "base_uri": "https://localhost:8080/"
        },
        "id": "o_h0zH63rE9e",
        "outputId": "806e0c11-7a9f-4ef2-d5c4-6b51bc08d847"
      },
      "source": [
        "freq_dist = data['country_txt'].value_counts()\n",
        "freq_dist[freq_dist > 2000]"
      ],
      "execution_count": 19,
      "outputs": [
        {
          "output_type": "execute_result",
          "data": {
            "text/plain": [
              "Iraq                        24636\n",
              "Pakistan                    14368\n",
              "Afghanistan                 12731\n",
              "India                       11960\n",
              "Colombia                     8306\n",
              "Philippines                  6908\n",
              "Peru                         6096\n",
              "El Salvador                  5320\n",
              "United Kingdom               5235\n",
              "Turkey                       4292\n",
              "Somalia                      4142\n",
              "Nigeria                      3907\n",
              "Thailand                     3849\n",
              "Yemen                        3347\n",
              "Spain                        3249\n",
              "Sri Lanka                    3022\n",
              "United States                2836\n",
              "Algeria                      2743\n",
              "France                       2693\n",
              "Egypt                        2479\n",
              "Lebanon                      2478\n",
              "Chile                        2365\n",
              "Libya                        2249\n",
              "West Bank and Gaza Strip     2227\n",
              "Syria                        2201\n",
              "Russia                       2194\n",
              "Israel                       2183\n",
              "Guatemala                    2050\n",
              "South Africa                 2016\n",
              "Name: country_txt, dtype: int64"
            ]
          },
          "metadata": {
            "tags": []
          },
          "execution_count": 19
        }
      ]
    },
    {
      "cell_type": "markdown",
      "metadata": {
        "id": "D70820OKrE9f"
      },
      "source": [
        "At the top of the list, we have Iraq with over $22,000$ documents cases of terrorism. Let us focus on Terrorist attacks in Iraq. On to the next question: Who exactly is responsible for these attrocities in Iraq?"
      ]
    },
    {
      "cell_type": "code",
      "metadata": {
        "colab": {
          "base_uri": "https://localhost:8080/"
        },
        "id": "qILbcN6VrE9h",
        "outputId": "fd30d858-eab8-444d-d9f2-166e40b34e75"
      },
      "source": [
        "iraq_data = data[ data['country_txt'] == 'Iraq' ]\n",
        "iraq_data['gname'].value_counts()[:10]"
      ],
      "execution_count": 20,
      "outputs": [
        {
          "output_type": "execute_result",
          "data": {
            "text/plain": [
              "Unknown                                        18520\n",
              "Islamic State of Iraq and the Levant (ISIL)     4797\n",
              "Al-Qaida in Iraq                                 632\n",
              "Islamic State of Iraq (ISI)                      145\n",
              "Asa'ib Ahl al-Haqq                                67\n",
              "Gunmen                                            57\n",
              "Tawhid and Jihad                                  49\n",
              "Al-Naqshabandiya Army                             35\n",
              "Muslim extremists                                 32\n",
              "Ansar al-Islam                                    28\n",
              "Name: gname, dtype: int64"
            ]
          },
          "metadata": {
            "tags": []
          },
          "execution_count": 20
        }
      ]
    },
    {
      "cell_type": "markdown",
      "metadata": {
        "id": "LbIJZI4KrE9j"
      },
      "source": [
        "Here is a list of the Top 10 most active groups. Islamic State of Iraq and the Levant (ISIL) or ISIS tops this list."
      ]
    },
    {
      "cell_type": "markdown",
      "metadata": {
        "id": "r221jEAWrE9k"
      },
      "source": [
        "**Objective**: In this report, we will see what can be inferred about ISIL's actions in Iraq. I chose ISIS because it is easy to verify our findings through online sources. Lets start answering questions one at a time."
      ]
    },
    {
      "cell_type": "code",
      "metadata": {
        "collapsed": true,
        "id": "xI4gylwqrE9l"
      },
      "source": [
        "isis_iraq_data = iraq_data[iraq_data['gname'] == 'Islamic State of Iraq and the Levant (ISIL)']"
      ],
      "execution_count": 21,
      "outputs": []
    },
    {
      "cell_type": "markdown",
      "metadata": {
        "id": "7Jveod2irE9m"
      },
      "source": [
        "_How has ISIS's influence varied over the years in Iraq?_"
      ]
    },
    {
      "cell_type": "code",
      "metadata": {
        "colab": {
          "base_uri": "https://localhost:8080/"
        },
        "id": "QOyW72A8rE9m",
        "outputId": "59b5ea20-fc30-4152-921c-ef3a43fb9dd9"
      },
      "source": [
        "data = isis_iraq_data['iyear'].value_counts()\n",
        "data"
      ],
      "execution_count": 22,
      "outputs": [
        {
          "output_type": "execute_result",
          "data": {
            "text/plain": [
              "2016    1206\n",
              "2017    1154\n",
              "2014    1100\n",
              "2015     996\n",
              "2013     341\n",
              "Name: iyear, dtype: int64"
            ]
          },
          "metadata": {
            "tags": []
          },
          "execution_count": 22
        }
      ]
    },
    {
      "cell_type": "markdown",
      "metadata": {
        "id": "qRdEZGTHrE9n"
      },
      "source": [
        "At first, I found it strange as ISIS had it's first attacks in Iraq in 2013. After all, It was established in 1999, so you would expect some cases in Iraq before then. But I found out they refered to themselves by different names over the years. In April 2013,  _Islamic State of Iraq and the Levant_ or the modern ISIL was founded [1]. Their activity is clearly on the incline. "
      ]
    },
    {
      "cell_type": "markdown",
      "metadata": {
        "id": "OSkuPSYmrE9o"
      },
      "source": [
        "_How many people has ISIS killed over the years in Iraq? Has it increases/decreased?_"
      ]
    },
    {
      "cell_type": "code",
      "metadata": {
        "colab": {
          "base_uri": "https://localhost:8080/"
        },
        "id": "d4mdVisFrE9p",
        "outputId": "fff826b6-46d7-4cc5-fe60-0512609ec4a2"
      },
      "source": [
        "for year in range(2013,2017):\n",
        "    num_kills = sum(isis_iraq_data['nkill'][isis_iraq_data['iyear'] == year].dropna())\n",
        "    print(\"Number of kills by ISIL in Iraq in \", year, \" = \", num_kills)"
      ],
      "execution_count": 23,
      "outputs": [
        {
          "output_type": "stream",
          "text": [
            "Number of kills by ISIL in Iraq in  2013  =  1347.0\n",
            "Number of kills by ISIL in Iraq in  2014  =  8604.0\n",
            "Number of kills by ISIL in Iraq in  2015  =  5976.0\n",
            "Number of kills by ISIL in Iraq in  2016  =  9528.0\n"
          ],
          "name": "stdout"
        }
      ]
    },
    {
      "cell_type": "markdown",
      "metadata": {
        "id": "Hz1cDDBvrE9q"
      },
      "source": [
        "Clearly, ISIL has become more active in number of attacks and fatalities."
      ]
    },
    {
      "cell_type": "markdown",
      "metadata": {
        "id": "I-SV8t7urE9r"
      },
      "source": [
        "_What kind of attacks does ISIL usually go with in Iraq?_"
      ]
    },
    {
      "cell_type": "code",
      "metadata": {
        "colab": {
          "base_uri": "https://localhost:8080/"
        },
        "id": "R28vp4LmrE9r",
        "outputId": "2d0b95ed-0f43-48ee-eba2-d9a78f44b36a"
      },
      "source": [
        "isis_iraq_data['attacktype1_txt'].value_counts()"
      ],
      "execution_count": 24,
      "outputs": [
        {
          "output_type": "execute_result",
          "data": {
            "text/plain": [
              "Bombing/Explosion                      3201\n",
              "Unknown                                 635\n",
              "Hostage Taking (Kidnapping)             463\n",
              "Armed Assault                           339\n",
              "Assassination                           100\n",
              "Facility/Infrastructure Attack           41\n",
              "Hostage Taking (Barricade Incident)      14\n",
              "Hijacking                                 4\n",
              "Name: attacktype1_txt, dtype: int64"
            ]
          },
          "metadata": {
            "tags": []
          },
          "execution_count": 24
        }
      ]
    },
    {
      "cell_type": "markdown",
      "metadata": {
        "id": "R4kkq4zUrE9t"
      },
      "source": [
        "Looks like they are a fan of Bombs and Explosives. They used this method of attack for nearly **two-thirds** of their attacks in Iraq. Hostage Taking is also common in the form of Kidnapping. Barricading involves trapping a group of people. It is harder to accomplish, which is probably why it also is not a common method of attack.\n",
        "\n",
        "Let us take a look at the $12$ barricade incidents."
      ]
    },
    {
      "cell_type": "code",
      "metadata": {
        "colab": {
          "base_uri": "https://localhost:8080/",
          "height": 483
        },
        "id": "PIn-j20VrE9u",
        "outputId": "f241e379-0c87-473e-ef1c-1032d3a313b3"
      },
      "source": [
        "isis_iraq_data[['success' ,'nkill', 'provstate']][isis_iraq_data['attacktype1_txt'] == 'Hostage Taking (Barricade Incident)']"
      ],
      "execution_count": 25,
      "outputs": [
        {
          "output_type": "execute_result",
          "data": {
            "text/html": [
              "<div>\n",
              "<style scoped>\n",
              "    .dataframe tbody tr th:only-of-type {\n",
              "        vertical-align: middle;\n",
              "    }\n",
              "\n",
              "    .dataframe tbody tr th {\n",
              "        vertical-align: top;\n",
              "    }\n",
              "\n",
              "    .dataframe thead th {\n",
              "        text-align: right;\n",
              "    }\n",
              "</style>\n",
              "<table border=\"1\" class=\"dataframe\">\n",
              "  <thead>\n",
              "    <tr style=\"text-align: right;\">\n",
              "      <th></th>\n",
              "      <th>success</th>\n",
              "      <th>nkill</th>\n",
              "      <th>provstate</th>\n",
              "    </tr>\n",
              "  </thead>\n",
              "  <tbody>\n",
              "    <tr>\n",
              "      <th>118797</th>\n",
              "      <td>1</td>\n",
              "      <td>5.0</td>\n",
              "      <td>Babil</td>\n",
              "    </tr>\n",
              "    <tr>\n",
              "      <th>122408</th>\n",
              "      <td>1</td>\n",
              "      <td>4.0</td>\n",
              "      <td>Al Anbar</td>\n",
              "    </tr>\n",
              "    <tr>\n",
              "      <th>124274</th>\n",
              "      <td>1</td>\n",
              "      <td>3.0</td>\n",
              "      <td>Kirkuk</td>\n",
              "    </tr>\n",
              "    <tr>\n",
              "      <th>124975</th>\n",
              "      <td>1</td>\n",
              "      <td>9.0</td>\n",
              "      <td>Saladin</td>\n",
              "    </tr>\n",
              "    <tr>\n",
              "      <th>126594</th>\n",
              "      <td>1</td>\n",
              "      <td>24.0</td>\n",
              "      <td>Baghdad</td>\n",
              "    </tr>\n",
              "    <tr>\n",
              "      <th>128283</th>\n",
              "      <td>1</td>\n",
              "      <td>9.0</td>\n",
              "      <td>Saladin</td>\n",
              "    </tr>\n",
              "    <tr>\n",
              "      <th>130625</th>\n",
              "      <td>1</td>\n",
              "      <td>9.0</td>\n",
              "      <td>Baghdad</td>\n",
              "    </tr>\n",
              "    <tr>\n",
              "      <th>133051</th>\n",
              "      <td>1</td>\n",
              "      <td>2.0</td>\n",
              "      <td>Al Anbar</td>\n",
              "    </tr>\n",
              "    <tr>\n",
              "      <th>142423</th>\n",
              "      <td>1</td>\n",
              "      <td>3.0</td>\n",
              "      <td>Diyala</td>\n",
              "    </tr>\n",
              "    <tr>\n",
              "      <th>143749</th>\n",
              "      <td>1</td>\n",
              "      <td>0.0</td>\n",
              "      <td>Kirkuk</td>\n",
              "    </tr>\n",
              "    <tr>\n",
              "      <th>157547</th>\n",
              "      <td>1</td>\n",
              "      <td>21.0</td>\n",
              "      <td>Baghdad</td>\n",
              "    </tr>\n",
              "    <tr>\n",
              "      <th>168347</th>\n",
              "      <td>1</td>\n",
              "      <td>18.0</td>\n",
              "      <td>Kirkuk</td>\n",
              "    </tr>\n",
              "    <tr>\n",
              "      <th>173221</th>\n",
              "      <td>1</td>\n",
              "      <td>230.0</td>\n",
              "      <td>Nineveh</td>\n",
              "    </tr>\n",
              "    <tr>\n",
              "      <th>175324</th>\n",
              "      <td>1</td>\n",
              "      <td>9.0</td>\n",
              "      <td>Nineveh</td>\n",
              "    </tr>\n",
              "  </tbody>\n",
              "</table>\n",
              "</div>"
            ],
            "text/plain": [
              "        success  nkill provstate\n",
              "118797        1    5.0     Babil\n",
              "122408        1    4.0  Al Anbar\n",
              "124274        1    3.0    Kirkuk\n",
              "124975        1    9.0   Saladin\n",
              "126594        1   24.0   Baghdad\n",
              "128283        1    9.0   Saladin\n",
              "130625        1    9.0   Baghdad\n",
              "133051        1    2.0  Al Anbar\n",
              "142423        1    3.0    Diyala\n",
              "143749        1    0.0    Kirkuk\n",
              "157547        1   21.0   Baghdad\n",
              "168347        1   18.0    Kirkuk\n",
              "173221        1  230.0   Nineveh\n",
              "175324        1    9.0   Nineveh"
            ]
          },
          "metadata": {
            "tags": []
          },
          "execution_count": 25
        }
      ]
    },
    {
      "cell_type": "markdown",
      "metadata": {
        "id": "kY5uw59grE9v"
      },
      "source": [
        "We'll also plot a histogram while we are at it."
      ]
    },
    {
      "cell_type": "code",
      "metadata": {
        "colab": {
          "base_uri": "https://localhost:8080/",
          "height": 333
        },
        "id": "XH8YH3vyrE9x",
        "outputId": "71a9599a-7485-4fd0-9137-c5709f089981"
      },
      "source": [
        "barricade = isis_iraq_data['nkill'][isis_iraq_data['attacktype1_txt'] == 'Hostage Taking (Barricade Incident)']\n",
        "sns.distplot(barricade, label=\"Barricade\")\n",
        "\n",
        "plt.legend()\n",
        "plt.show()"
      ],
      "execution_count": 26,
      "outputs": [
        {
          "output_type": "stream",
          "text": [
            "/usr/local/lib/python3.6/dist-packages/seaborn/distributions.py:2551: FutureWarning: `distplot` is a deprecated function and will be removed in a future version. Please adapt your code to use either `displot` (a figure-level function with similar flexibility) or `histplot` (an axes-level function for histograms).\n",
            "  warnings.warn(msg, FutureWarning)\n"
          ],
          "name": "stderr"
        },
        {
          "output_type": "display_data",
          "data": {
            "image/png": "[encoded data removed]",
            "text/plain": [
              "<Figure size 432x288 with 1 Axes>"
            ]
          },
          "metadata": {
            "tags": [],
            "needs_background": "light"
          }
        }
      ]
    },
    {
      "cell_type": "markdown",
      "metadata": {
        "id": "-cxttERDrE91"
      },
      "source": [
        "Looks like all barricade attempts were a success. Baghdad seemed to be hit pretty hard by these type of attacks. \n",
        "\n",
        "_Who were the targets for the Kidnappings?_"
      ]
    },
    {
      "cell_type": "code",
      "metadata": {
        "colab": {
          "base_uri": "https://localhost:8080/"
        },
        "id": "hQsljTSzrE92",
        "outputId": "a5724e92-5f8f-4826-d579-aebaa5a4b7ed"
      },
      "source": [
        "isis_iraq_data['targtype1_txt'][isis_iraq_data['attacktype1_txt'] == 'Hostage Taking (Kidnapping)'].value_counts()"
      ],
      "execution_count": 27,
      "outputs": [
        {
          "output_type": "execute_result",
          "data": {
            "text/plain": [
              "Private Citizens & Property       282\n",
              "Police                             61\n",
              "Military                           50\n",
              "Journalists & Media                18\n",
              "Terrorists/Non-State Militia       16\n",
              "Government (General)               14\n",
              "Business                            9\n",
              "Religious Figures/Institutions      6\n",
              "Educational Institution             3\n",
              "Violent Political Party             1\n",
              "Government (Diplomatic)             1\n",
              "Transportation                      1\n",
              "Utilities                           1\n",
              "Name: targtype1_txt, dtype: int64"
            ]
          },
          "metadata": {
            "tags": []
          },
          "execution_count": 27
        }
      ]
    },
    {
      "cell_type": "markdown",
      "metadata": {
        "id": "Bz615HIarE94"
      },
      "source": [
        "Private Citizens, the Police and Military are their primary targets. Can we get some intel on what _Private Citizens & Property_ represents?"
      ]
    },
    {
      "cell_type": "code",
      "metadata": {
        "colab": {
          "base_uri": "https://localhost:8080/"
        },
        "id": "xIP994MyrE95",
        "outputId": "b0e5433a-bab9-4ab7-a413-4f71d67565a8"
      },
      "source": [
        "isis_iraq_data['targsubtype1_txt'][(isis_iraq_data['targtype1_txt'] == 'Private Citizens & Property') & (isis_iraq_data['attacktype1_txt'] == 'Hostage Taking (Kidnapping)') ].value_counts()"
      ],
      "execution_count": 28,
      "outputs": [
        {
          "output_type": "execute_result",
          "data": {
            "text/plain": [
              "Unnamed Civilian/Unspecified                                    183\n",
              "Alleged Informant                                                30\n",
              "Village/City/Town/Suburb                                         18\n",
              "Laborer (General)/Occupation Identified                          14\n",
              "Religion Identified                                               8\n",
              "House/Apartment/Residence                                         8\n",
              "Race/Ethnicity Identified                                         6\n",
              "Political Party Member/Rally                                      5\n",
              "Named Civilian                                                    4\n",
              "Farmer                                                            2\n",
              "Procession/Gathering (funeral, wedding, birthday, religious)      1\n",
              "Student                                                           1\n",
              "Protester                                                         1\n",
              "Refugee (including Camps/IDP/Asylum Seekers)                      1\n",
              "Name: targsubtype1_txt, dtype: int64"
            ]
          },
          "metadata": {
            "tags": []
          },
          "execution_count": 28
        }
      ]
    },
    {
      "cell_type": "markdown",
      "metadata": {
        "id": "cfygdMqRrE97"
      },
      "source": [
        "Of the specified Kidnapping of Citizens, we had 25 cases involving General Laborers. _Who exactly constituted these targetted labourers?_"
      ]
    },
    {
      "cell_type": "code",
      "metadata": {
        "colab": {
          "base_uri": "https://localhost:8080/"
        },
        "id": "zUinWzOMrE98",
        "outputId": "0eb2c4d2-5183-4209-b4c8-ee0fc66ff2a5"
      },
      "source": [
        "isis_iraq_data['target1'][ (isis_iraq_data['targsubtype1_txt'] == 'Laborer (General)/Occupation Identified') & (isis_iraq_data['targtype1_txt'] == 'Private Citizens & Property') & (isis_iraq_data['attacktype1_txt'] == 'Hostage Taking (Kidnapping)') ].value_counts()"
      ],
      "execution_count": 29,
      "outputs": [
        {
          "output_type": "execute_result",
          "data": {
            "text/plain": [
              "Suspected Security Collaborators                              2\n",
              "Former Islamic State of Iraq and the Levant (ISIL) Members    1\n",
              "Al-Sada al-Na'im Tribal Chief: Talib Ibrahim al-'Ali          1\n",
              "Leader of Albu-Riyash Clan: Sheikh Mahmud Nazim al-Kaka       1\n",
              "Traders; Truck Drivers                                        1\n",
              "Al Jabur Tribe Chief: Ibrahim Nayif al-Muhayri                1\n",
              "Medical Team Members                                          1\n",
              "Surgeons                                                      1\n",
              "Mechanical Engineer: Zakariyah Ali Taha                       1\n",
              "Doctors: Maha Sabhan, Lamia Ismail                            1\n",
              "Tribal Chieftains                                             1\n",
              "Tribal Leader: Shaykh Muzhir Muhammad al-Mashuh al-Jumayli    1\n",
              "Preacher                                                      1\n",
              "Name: target1, dtype: int64"
            ]
          },
          "metadata": {
            "tags": []
          },
          "execution_count": 29
        }
      ]
    },
    {
      "cell_type": "markdown",
      "metadata": {
        "id": "HU-ep2U7rE99"
      },
      "source": [
        "So The most \"documented\" targetted individuals were suspected spies and informants. I used the term _documented_ because 150 of 200 Private Citizens and propery targeted are unknown. \n",
        "\n",
        "_How does ISIL deal with other Terrorist groups and Non-State Militia?_"
      ]
    },
    {
      "cell_type": "code",
      "metadata": {
        "colab": {
          "base_uri": "https://localhost:8080/"
        },
        "id": "7OcY6rawrE9-",
        "outputId": "bf2e570b-644c-49ca-d4e6-57b3a298ac8f"
      },
      "source": [
        "isis_iraq_data['attacktype1_txt'][ (isis_iraq_data['targtype1_txt'] == 'Terrorists/Non-State Militia')].value_counts()"
      ],
      "execution_count": 30,
      "outputs": [
        {
          "output_type": "execute_result",
          "data": {
            "text/plain": [
              "Bombing/Explosion              75\n",
              "Unknown                        29\n",
              "Armed Assault                  22\n",
              "Hostage Taking (Kidnapping)    16\n",
              "Assassination                   9\n",
              "Name: attacktype1_txt, dtype: int64"
            ]
          },
          "metadata": {
            "tags": []
          },
          "execution_count": 30
        }
      ]
    },
    {
      "cell_type": "markdown",
      "metadata": {
        "id": "sPT56pBhrE9_"
      },
      "source": [
        "They deal with them like any other: Bombs, Armed Assault, Kidnapping and assassination. \n",
        "\n",
        "_Among their terrorist enemies, who do they assassinate?_"
      ]
    },
    {
      "cell_type": "code",
      "metadata": {
        "colab": {
          "base_uri": "https://localhost:8080/"
        },
        "id": "DhnfmlPTrE-A",
        "outputId": "2ddae6af-70f5-481a-9190-bae59edfdc68"
      },
      "source": [
        "targets = isis_iraq_data[['target1']][ (isis_iraq_data['attacktype1_txt'] == 'Assassination') & (isis_iraq_data['targtype1_txt'] == 'Terrorists/Non-State Militia') ]\n",
        "targets.apply( lambda x: x.str.split(':')[0][0] , axis=1).value_counts()"
      ],
      "execution_count": 31,
      "outputs": [
        {
          "output_type": "execute_result",
          "data": {
            "text/plain": [
              "House of Leader        3\n",
              "Leader                 2\n",
              "Convoy of Commander    1\n",
              "Member                 1\n",
              "Commander              1\n",
              "Vehicle of Leader      1\n",
              "dtype: int64"
            ]
          },
          "metadata": {
            "tags": []
          },
          "execution_count": 31
        }
      ]
    },
    {
      "cell_type": "markdown",
      "metadata": {
        "id": "g9c5247ZrE-B"
      },
      "source": [
        "Positions of Leader and Commander are targets for assassination."
      ]
    },
    {
      "cell_type": "markdown",
      "metadata": {
        "id": "ztDN0nvErE-D"
      },
      "source": [
        "_Who are these other terrorist groups/ Militias?_"
      ]
    },
    {
      "cell_type": "markdown",
      "metadata": {
        "id": "F58dvcnFrE-E"
      },
      "source": [
        "This will involve some _Natural Langauge Processing_. I create a function which takes 2 arguements:\n",
        "- **text**: The textual paragraph to be analyzed.\n",
        "- **regex**: The type of Keyphrases to look out for\n",
        "\n",
        "Initially, I combine all the content in the _summary_ column that describes the terrorist attacks on other Terrorists and Non-State Militia. This text is passed into the function which performs the following sequence of actions:\n",
        "1. **Word Tokenization**: Breaks the passage into constituent words.\n",
        "2. **Part of Speech Tagging**: Tag elements based on part of speech. A list of possible POS tags in [2]. \n",
        "3. **Chunk Unit**: They are the phrases you wish to recognize. I only consider phrases grater longer than bigrams, that is more than 2 word phrases.\n",
        "4. **Frequency Distribution**: Determine the frequency of occrrence of such phrases. The most common are your _key_ prases.\n",
        "\n",
        "I wrapped these 4 stages in a function so that we can reuse them for other NLP tasks."
      ]
    },
    {
      "cell_type": "code",
      "metadata": {
        "colab": {
          "base_uri": "https://localhost:8080/"
        },
        "id": "1H1cwLA5u1zK",
        "outputId": "e30f6e37-c62f-4cf6-dca0-1ddc38888a34"
      },
      "source": [
        "nltk.download('punkt')"
      ],
      "execution_count": 33,
      "outputs": [
        {
          "output_type": "stream",
          "text": [
            "[nltk_data] Downloading package punkt to /root/nltk_data...\n",
            "[nltk_data]   Unzipping tokenizers/punkt.zip.\n"
          ],
          "name": "stdout"
        },
        {
          "output_type": "execute_result",
          "data": {
            "text/plain": [
              "True"
            ]
          },
          "metadata": {
            "tags": []
          },
          "execution_count": 33
        }
      ]
    },
    {
      "cell_type": "code",
      "metadata": {
        "colab": {
          "base_uri": "https://localhost:8080/"
        },
        "id": "qLWeAiBSvAFq",
        "outputId": "8c52d0bc-35d3-4cf8-9fe1-7435a5b75575"
      },
      "source": [
        "nltk.download('averaged_perceptron_tagger')"
      ],
      "execution_count": 36,
      "outputs": [
        {
          "output_type": "stream",
          "text": [
            "[nltk_data] Downloading package averaged_perceptron_tagger to\n",
            "[nltk_data]     /root/nltk_data...\n",
            "[nltk_data]   Unzipping taggers/averaged_perceptron_tagger.zip.\n"
          ],
          "name": "stdout"
        },
        {
          "output_type": "execute_result",
          "data": {
            "text/plain": [
              "True"
            ]
          },
          "metadata": {
            "tags": []
          },
          "execution_count": 36
        }
      ]
    },
    {
      "cell_type": "code",
      "metadata": {
        "colab": {
          "base_uri": "https://localhost:8080/"
        },
        "id": "moNx_sHArE-F",
        "outputId": "95759ad7-03b5-4043-8472-42861200e3a5"
      },
      "source": [
        "def text_manipulation(text, regex):\n",
        "    words = nltk.word_tokenize(text.lower())\n",
        "    tagged = nltk.pos_tag(words)\n",
        "\n",
        "    chunkGram = regex\n",
        "    \n",
        "    chunkParser = RegexpParser(chunkGram)\n",
        "    chunked = chunkParser.parse(tagged)\n",
        "\n",
        "    candidate_keywords = []\n",
        "    for tree in chunked.subtrees():\n",
        "        if (tree.label() == 'PHRASE') and (len(tree.leaves()) >= 2):\n",
        "            candidate_keyword = ' '.join([x for x,y in tree.leaves()])\n",
        "            candidate_keywords.append(candidate_keyword)\n",
        "\n",
        "    return Counter(candidate_keywords)\n",
        "    \n",
        "text = ' '.join(isis_iraq_data['summary'][isis_iraq_data['targtype1_txt'] == 'Terrorists/Non-State Militia'].dropna().tolist())\n",
        "common_phrases = text_manipulation(text, r\"\"\" PHRASE: {(<JJ>* <NN.*>+ <IN>)? <JJ>* <NN.*>+}\"\"\")\n",
        "for x,y in sorted(common_phrases.items(), key=operator.itemgetter(1), reverse=True):\n",
        "    if y>=2:\n",
        "        print((x,y))"
      ],
      "execution_count": 37,
      "outputs": [
        {
          "output_type": "stream",
          "text": [
            "('islamic state of iraq', 134)\n",
            "('saladin governorate', 33)\n",
            "('volunteer fighters', 32)\n",
            "('explosive device', 31)\n",
            "('suicide bomber', 22)\n",
            "('state of iraq', 19)\n",
            "('explosives-laden vehicle', 15)\n",
            "('al anbar', 14)\n",
            "('diyala governorate', 13)\n",
            "('security forces', 13)\n",
            "('same day', 12)\n",
            "('baghdad city', 11)\n",
            "('baghdad governorate', 11)\n",
            "('sahwa council members', 8)\n",
            "('coordinated attacks', 8)\n",
            "('suicide bombers', 8)\n",
            "('sahwa council leader', 7)\n",
            "('al anbar governorate', 7)\n",
            "('sahwa member', 6)\n",
            "('sahwa council member', 6)\n",
            "('babil governorate', 6)\n",
            "('sahwa members', 5)\n",
            "('other people', 4)\n",
            "('militia members', 4)\n",
            "('volunteer forces', 4)\n",
            "('reported casualties', 3)\n",
            "('same night', 3)\n",
            "('security members', 3)\n",
            "('explosives-laden vehicles', 3)\n",
            "('unknown number of assailants', 3)\n",
            "('volunteer fighter commander', 3)\n",
            "('ramadi city', 2)\n",
            "('sahwa council building in daquq district', 2)\n",
            "('family members', 2)\n",
            "('samarra district', 2)\n",
            "('tikrit city', 2)\n",
            "('volunteer fighters in baiji district', 2)\n",
            "('sahwa council checkpoint in arab ebjur area', 2)\n",
            "('fire on volunteer fighters', 2)\n",
            "('baiji district', 2)\n",
            "('other members', 2)\n",
            "('security force members', 2)\n",
            "('volunteer fighters in bashir', 2)\n",
            "('explosives-rigged house', 2)\n",
            "('unknown number of civilians', 2)\n",
            "('hawijah district', 2)\n",
            "('volunteer fighter', 2)\n",
            "('coordinated assaults on iraqi volunteer forces', 2)\n",
            "('volunteer fighter patrol in arab ebjur area', 2)\n",
            "('militia members in saladin', 2)\n",
            "('volunteer fighters in arab ebjur', 2)\n",
            "('volunteer fighter leader', 2)\n"
          ],
          "name": "stdout"
        }
      ]
    },
    {
      "cell_type": "markdown",
      "metadata": {
        "id": "XNRR3Yz2rE-H"
      },
      "source": [
        "Looks like these Terrorist Groups & Militias they targeted include iraqi volunteer forces, volunteer fighters in arab ebjur area,baiji district and bashir. The names of Specific Militia are not mentioned in the summary. "
      ]
    },
    {
      "cell_type": "markdown",
      "metadata": {
        "id": "SASbUIBfrE-I"
      },
      "source": [
        "_Can we get more info on the nature of attack?_"
      ]
    },
    {
      "cell_type": "markdown",
      "metadata": {
        "id": "uEtut8RHrE-J"
      },
      "source": [
        "To get more information about the attacks on ISIL's association with Terrorist Groups/Militias, we parse the \"summary\" column and see what we can find. I am looking for information along the lines of \"X killed Y\" or \"X was killed\". If we were to perform Part of Speech tagging, the equivalent chunking unit would be \"The big bad wolf killed the lazy fox\". "
      ]
    },
    {
      "cell_type": "code",
      "metadata": {
        "colab": {
          "base_uri": "https://localhost:8080/"
        },
        "id": "EYmk_URTrE-K",
        "outputId": "ed7d4eb9-a58a-41ac-fcbc-a311c34b075e"
      },
      "source": [
        "text = \"The big bad wolf killed the lazy fox\"\n",
        "words = nltk.word_tokenize(text)\n",
        "nltk.pos_tag(words)"
      ],
      "execution_count": 38,
      "outputs": [
        {
          "output_type": "execute_result",
          "data": {
            "text/plain": [
              "[('The', 'DT'),\n",
              " ('big', 'JJ'),\n",
              " ('bad', 'JJ'),\n",
              " ('wolf', 'NN'),\n",
              " ('killed', 'VBD'),\n",
              " ('the', 'DT'),\n",
              " ('lazy', 'NN'),\n",
              " ('fox', 'NN')]"
            ]
          },
          "metadata": {
            "tags": []
          },
          "execution_count": 38
        }
      ]
    },
    {
      "cell_type": "markdown",
      "metadata": {
        "id": "Mc_kX8k3rE-L"
      },
      "source": [
        "So I use a similar sequence of POS tags for creating chunks : $<JJ>? <NN.*>+ <VB.*>+ <DT>? <JJ>? <NN.*>+ $"
      ]
    },
    {
      "cell_type": "code",
      "metadata": {
        "colab": {
          "base_uri": "https://localhost:8080/"
        },
        "id": "U0WvpovhrE-M",
        "outputId": "0a576e0b-75a4-4644-a124-3715ddb91dca"
      },
      "source": [
        "text = ' '.join(isis_iraq_data['summary'][isis_iraq_data['targtype1_txt'] == 'Terrorists/Non-State Militia'].dropna().tolist())\n",
        "common_phrases = text_manipulation(text, r\"\"\" PHRASE: {<JJ>? <NN.*>+ <VB.*>+ <DT>? <JJ>? <NN.*>+ }\"\"\")\n",
        "for x,y in sorted(common_phrases.items(), key=operator.itemgetter(1), reverse=True):\n",
        "    if y>=2:\n",
        "        print((x,y))"
      ],
      "execution_count": 39,
      "outputs": [
        {
          "output_type": "stream",
          "text": [
            "('group claimed responsibility', 68)\n",
            "('sources attributed the attack', 60)\n",
            "('suicide bomber detonated an explosives-laden vehicle', 12)\n",
            "('assailants opened fire', 11)\n",
            "('assailants attacked volunteer fighters', 10)\n",
            "('security forces repelled the assault', 7)\n",
            "('explosive device detonated targeting a volunteer fighter patrol', 5)\n",
            "('assailants fired mortars', 4)\n",
            "('assailants attacked a sahwa council checkpoint', 3)\n",
            "('suicide bomber detonated targeting volunteer fighters', 3)\n",
            "('explosive device detonated targeting a vehicle', 3)\n",
            "('assailants attacked militia members', 3)\n",
            "('sources attributed the attacks', 3)\n",
            "('assailants detonated an explosive device', 2)\n",
            "('assailants stormed the residence', 2)\n",
            "('explosive device detonated targeting volunteer fighters', 2)\n",
            "('sources attributed the incident', 2)\n",
            "('assailants attacked a checkpoint', 2)\n",
            "('assailants planted explosive devices', 2)\n",
            "('assailants attacked volunteer forces', 2)\n",
            "('assailants fired rockets', 2)\n",
            "('assailants kidnapped an unknown number', 2)\n",
            "('assailants attacked a volunteer fighters', 2)\n",
            "('sniper opened fire', 2)\n"
          ],
          "name": "stdout"
        }
      ]
    },
    {
      "cell_type": "markdown",
      "metadata": {
        "id": "rJjtsu1FrE-N"
      },
      "source": [
        "A common method of dealing with these Militias is through detonation of an explosives-laden vehicle. Another tactic is through suicide bombers either in a vehicle or stapping bombs to their person. Not all attacks went successful as we see security forces repelled the assault."
      ]
    },
    {
      "cell_type": "markdown",
      "metadata": {
        "id": "xigjWY7BrE-O"
      },
      "source": [
        "_So why did ISIL attack parts of Iraq?_"
      ]
    },
    {
      "cell_type": "markdown",
      "metadata": {
        "id": "xhkK1CisrE-O"
      },
      "source": [
        "In other words, we need to explore the _motive_.The recommended way of looking for key phrases in the motive would be trying to chunk words according to a pattern like we did before."
      ]
    },
    {
      "cell_type": "code",
      "metadata": {
        "scrolled": false,
        "colab": {
          "base_uri": "https://localhost:8080/"
        },
        "id": "HWwzQE7prE-P",
        "outputId": "0f7f045d-d280-4666-c0c7-e338e3bb3a1e"
      },
      "source": [
        "text = ' '.join(isis_iraq_data['motive'].dropna().tolist())\n",
        "common_phrases = text_manipulation(text,  r\"\"\" PHRASE: {<VB> <DT>? <NN.*>+ (<CC> <NN*>+)? <IN>? <NN.*>+}\"\"\")\n",
        "for x,y in sorted(common_phrases.items(), key=operator.itemgetter(1), reverse=True):\n",
        "    if y>=1:\n",
        "        print((x,y))"
      ],
      "execution_count": 40,
      "outputs": [
        {
          "output_type": "stream",
          "text": [
            "('iraqi security forces', 23)\n",
            "('punish the police officer', 10)\n",
            "('distract security personnel', 3)\n",
            "('reclaim parts of mosul', 3)\n",
            "('start rumors that security personnel', 3)\n",
            "('locate militants in iraq', 2)\n",
            "('islamic state of iraq', 2)\n",
            "('distract security forces from operations', 2)\n",
            "('divert security forces', 2)\n",
            "('kurdish militias in syria', 1)\n",
            "('fight sunni muslims', 1)\n",
            "('allow security force', 1)\n",
            "('combat idolatry and disbelief in iraq', 1)\n",
            "('al anbar governorate', 1)\n",
            "('divert the attention of security personnel', 1)\n",
            "('issue death sentences against individuals', 1)\n",
            "('keep the information secret', 1)\n"
          ],
          "name": "stdout"
        }
      ]
    },
    {
      "cell_type": "markdown",
      "metadata": {
        "id": "-YGw7izjrE-P"
      },
      "source": [
        "On closer inspection of the motives, however we see that many of them are similar, word for word.So we could get away with a direct frequency distribution. This approach is very specific to the current dataset."
      ]
    },
    {
      "cell_type": "code",
      "metadata": {
        "colab": {
          "base_uri": "https://localhost:8080/"
        },
        "id": "rm5lQgV5rE-Q",
        "outputId": "71ae384f-0812-4406-a022-db8fd98ca0ef"
      },
      "source": [
        "isis_iraq_data['motive'].dropna().value_counts()[:10]"
      ],
      "execution_count": 41,
      "outputs": [
        {
          "output_type": "execute_result",
          "data": {
            "text/plain": [
              "The specific motive is unknown; however, sources noted that the victims were attempting to leave the area at the time of the attack.                                                                                                                                                                                                                                                                    24\n",
              "According to an online statement, Islamic State of Iraq and the Levant (ISIL) claimed responsibility for the incident, stating that the attack was in retaliation for the Iraqi government's alleged \"crimes\" against the minority Sunni community. Moreover, the armed Islamist outfit claims that the incident was part of its newly launched offensive campaign called \"Harvesting the Soldiers\".    23\n",
              "In a statement posted online, Islamic State of Iraq and the Levant (ISIL) claimed responsibility and stated that the attacks were in response to Iraqi security forces arresting hundreds of Muslims.                                                                                                                                                                                                   23\n",
              "The specific motive is unknown; however, sources stated that the victims were accused of working with security personnel.                                                                                                                                                                                                                                                                               20\n",
              "The specific motive is unknown; however, sources noted that the affected areas had witnessed a sharp increase in attacks on houses belonging to the army and police forces after Al-Qa ida distributed leaflets calling for security forces to leave their jobs or their homes will be blown up.                                                                                                        18\n",
              "A spokesperson for Islamic State of Iraq and the Levant (ISIL) stated that the attacks were in retaliation for the execution of Sunni prisoners on August 19, 2013.                                                                                                                                                                                                                                     18\n",
              "Islamic State of Iraq and the Levant (ISIL) claimed responsibility and stated that this and other coordinated bombings in Baghdad were in retaliation for intensified security  operations against insurgents in Sunni areas.                                                                                                                                                                           15\n",
              "Islamic State of Iraq and the Levant (ISIL) claimed responsibility for this and the other coordinated incidents in Baghdad on this day, stating that the attacks were in retaliation for security campaigns that \"target Sunni areas.\"                                                                                                                                                                  13\n",
              "The specific motive is unknown; however, sources noted that security forces dismantled a Sunni protest camp outside Ramadi on December 30, 2013, angering members of the Sunni community. Sources also noted that a number of prisoners were freed in the attack.                                                                                                                                       12\n",
              "The specific motive is unknown; however, sources stated that the victims were attempting to leave the area at the time of the attack.                                                                                                                                                                                                                                                                   11\n",
              "Name: motive, dtype: int64"
            ]
          },
          "metadata": {
            "tags": []
          },
          "execution_count": 41
        }
      ]
    },
    {
      "cell_type": "markdown",
      "metadata": {
        "id": "HqFWhQIbrE-R"
      },
      "source": [
        "In the statements above, Baghdad seems to be a ceter location. In 30 cases, ISIL states the bombings in and around baghdad was retaliation for intensified security operations against insurgents in Sunni areas."
      ]
    },
    {
      "cell_type": "markdown",
      "metadata": {
        "id": "HC5QasdtrE-U"
      },
      "source": [
        "_Who are ISIL's targets in Baghdad?_"
      ]
    },
    {
      "cell_type": "code",
      "metadata": {
        "colab": {
          "base_uri": "https://localhost:8080/",
          "height": 1000
        },
        "id": "gRkDKrazrE-V",
        "outputId": "abebc929-46c8-4c5b-cb7a-35479be287ee"
      },
      "source": [
        "isis_iraq_data[['target1', 'success','attacktype1_txt']][isis_iraq_data['motive'].str.contains('Baghdad', regex=True, na=False)]"
      ],
      "execution_count": 42,
      "outputs": [
        {
          "output_type": "execute_result",
          "data": {
            "text/html": [
              "<div>\n",
              "<style scoped>\n",
              "    .dataframe tbody tr th:only-of-type {\n",
              "        vertical-align: middle;\n",
              "    }\n",
              "\n",
              "    .dataframe tbody tr th {\n",
              "        vertical-align: top;\n",
              "    }\n",
              "\n",
              "    .dataframe thead th {\n",
              "        text-align: right;\n",
              "    }\n",
              "</style>\n",
              "<table border=\"1\" class=\"dataframe\">\n",
              "  <thead>\n",
              "    <tr style=\"text-align: right;\">\n",
              "      <th></th>\n",
              "      <th>target1</th>\n",
              "      <th>success</th>\n",
              "      <th>attacktype1_txt</th>\n",
              "    </tr>\n",
              "  </thead>\n",
              "  <tbody>\n",
              "    <tr>\n",
              "      <th>118628</th>\n",
              "      <td>Car Dealership</td>\n",
              "      <td>1</td>\n",
              "      <td>Bombing/Explosion</td>\n",
              "    </tr>\n",
              "    <tr>\n",
              "      <th>118629</th>\n",
              "      <td>Civilians</td>\n",
              "      <td>1</td>\n",
              "      <td>Bombing/Explosion</td>\n",
              "    </tr>\n",
              "    <tr>\n",
              "      <th>119257</th>\n",
              "      <td>Civilians</td>\n",
              "      <td>1</td>\n",
              "      <td>Bombing/Explosion</td>\n",
              "    </tr>\n",
              "    <tr>\n",
              "      <th>120850</th>\n",
              "      <td>Restaurants</td>\n",
              "      <td>1</td>\n",
              "      <td>Bombing/Explosion</td>\n",
              "    </tr>\n",
              "    <tr>\n",
              "      <th>120851</th>\n",
              "      <td>Restaurants</td>\n",
              "      <td>1</td>\n",
              "      <td>Bombing/Explosion</td>\n",
              "    </tr>\n",
              "    <tr>\n",
              "      <th>120852</th>\n",
              "      <td>Restaurants</td>\n",
              "      <td>1</td>\n",
              "      <td>Bombing/Explosion</td>\n",
              "    </tr>\n",
              "    <tr>\n",
              "      <th>120853</th>\n",
              "      <td>Shia Neighborhood</td>\n",
              "      <td>1</td>\n",
              "      <td>Bombing/Explosion</td>\n",
              "    </tr>\n",
              "    <tr>\n",
              "      <th>120854</th>\n",
              "      <td>Police Station</td>\n",
              "      <td>1</td>\n",
              "      <td>Bombing/Explosion</td>\n",
              "    </tr>\n",
              "    <tr>\n",
              "      <th>120855</th>\n",
              "      <td>Ice Cream Shop</td>\n",
              "      <td>1</td>\n",
              "      <td>Bombing/Explosion</td>\n",
              "    </tr>\n",
              "    <tr>\n",
              "      <th>120856</th>\n",
              "      <td>Shia Civilians</td>\n",
              "      <td>1</td>\n",
              "      <td>Bombing/Explosion</td>\n",
              "    </tr>\n",
              "    <tr>\n",
              "      <th>120857</th>\n",
              "      <td>Shia Neighborhood</td>\n",
              "      <td>1</td>\n",
              "      <td>Bombing/Explosion</td>\n",
              "    </tr>\n",
              "    <tr>\n",
              "      <th>120858</th>\n",
              "      <td>Shia Neighborhood</td>\n",
              "      <td>1</td>\n",
              "      <td>Bombing/Explosion</td>\n",
              "    </tr>\n",
              "    <tr>\n",
              "      <th>120860</th>\n",
              "      <td>Shia Neighborhood</td>\n",
              "      <td>1</td>\n",
              "      <td>Bombing/Explosion</td>\n",
              "    </tr>\n",
              "    <tr>\n",
              "      <th>120861</th>\n",
              "      <td>Sunni Neighborhood</td>\n",
              "      <td>1</td>\n",
              "      <td>Bombing/Explosion</td>\n",
              "    </tr>\n",
              "    <tr>\n",
              "      <th>120862</th>\n",
              "      <td>Shia Civilians</td>\n",
              "      <td>1</td>\n",
              "      <td>Bombing/Explosion</td>\n",
              "    </tr>\n",
              "    <tr>\n",
              "      <th>120863</th>\n",
              "      <td>Restaurant</td>\n",
              "      <td>1</td>\n",
              "      <td>Bombing/Explosion</td>\n",
              "    </tr>\n",
              "    <tr>\n",
              "      <th>121684</th>\n",
              "      <td>Headquarters</td>\n",
              "      <td>1</td>\n",
              "      <td>Bombing/Explosion</td>\n",
              "    </tr>\n",
              "    <tr>\n",
              "      <th>121699</th>\n",
              "      <td>Civilians</td>\n",
              "      <td>1</td>\n",
              "      <td>Bombing/Explosion</td>\n",
              "    </tr>\n",
              "    <tr>\n",
              "      <th>121700</th>\n",
              "      <td>Vegetable Market</td>\n",
              "      <td>1</td>\n",
              "      <td>Bombing/Explosion</td>\n",
              "    </tr>\n",
              "    <tr>\n",
              "      <th>121701</th>\n",
              "      <td>Civilians</td>\n",
              "      <td>1</td>\n",
              "      <td>Bombing/Explosion</td>\n",
              "    </tr>\n",
              "    <tr>\n",
              "      <th>121702</th>\n",
              "      <td>Civilians</td>\n",
              "      <td>1</td>\n",
              "      <td>Bombing/Explosion</td>\n",
              "    </tr>\n",
              "    <tr>\n",
              "      <th>121703</th>\n",
              "      <td>Civilians</td>\n",
              "      <td>1</td>\n",
              "      <td>Bombing/Explosion</td>\n",
              "    </tr>\n",
              "    <tr>\n",
              "      <th>121704</th>\n",
              "      <td>Civilians</td>\n",
              "      <td>1</td>\n",
              "      <td>Bombing/Explosion</td>\n",
              "    </tr>\n",
              "    <tr>\n",
              "      <th>121705</th>\n",
              "      <td>Civilians</td>\n",
              "      <td>1</td>\n",
              "      <td>Bombing/Explosion</td>\n",
              "    </tr>\n",
              "    <tr>\n",
              "      <th>121706</th>\n",
              "      <td>Civilians</td>\n",
              "      <td>1</td>\n",
              "      <td>Bombing/Explosion</td>\n",
              "    </tr>\n",
              "    <tr>\n",
              "      <th>121707</th>\n",
              "      <td>Civilians</td>\n",
              "      <td>1</td>\n",
              "      <td>Bombing/Explosion</td>\n",
              "    </tr>\n",
              "    <tr>\n",
              "      <th>121712</th>\n",
              "      <td>Civilians</td>\n",
              "      <td>1</td>\n",
              "      <td>Bombing/Explosion</td>\n",
              "    </tr>\n",
              "    <tr>\n",
              "      <th>121713</th>\n",
              "      <td>Civilians</td>\n",
              "      <td>1</td>\n",
              "      <td>Bombing/Explosion</td>\n",
              "    </tr>\n",
              "    <tr>\n",
              "      <th>121714</th>\n",
              "      <td>Civilians</td>\n",
              "      <td>1</td>\n",
              "      <td>Bombing/Explosion</td>\n",
              "    </tr>\n",
              "    <tr>\n",
              "      <th>121715</th>\n",
              "      <td>Shia Civilians</td>\n",
              "      <td>1</td>\n",
              "      <td>Bombing/Explosion</td>\n",
              "    </tr>\n",
              "    <tr>\n",
              "      <th>121742</th>\n",
              "      <td>Civilians</td>\n",
              "      <td>1</td>\n",
              "      <td>Bombing/Explosion</td>\n",
              "    </tr>\n",
              "    <tr>\n",
              "      <th>121743</th>\n",
              "      <td>Civilians</td>\n",
              "      <td>1</td>\n",
              "      <td>Bombing/Explosion</td>\n",
              "    </tr>\n",
              "    <tr>\n",
              "      <th>176989</th>\n",
              "      <td>Civilians</td>\n",
              "      <td>1</td>\n",
              "      <td>Bombing/Explosion</td>\n",
              "    </tr>\n",
              "    <tr>\n",
              "      <th>177651</th>\n",
              "      <td>Preacher</td>\n",
              "      <td>1</td>\n",
              "      <td>Hostage Taking (Kidnapping)</td>\n",
              "    </tr>\n",
              "    <tr>\n",
              "      <th>179019</th>\n",
              "      <td>Road</td>\n",
              "      <td>0</td>\n",
              "      <td>Unknown</td>\n",
              "    </tr>\n",
              "  </tbody>\n",
              "</table>\n",
              "</div>"
            ],
            "text/plain": [
              "                   target1  success              attacktype1_txt\n",
              "118628      Car Dealership        1            Bombing/Explosion\n",
              "118629           Civilians        1            Bombing/Explosion\n",
              "119257           Civilians        1            Bombing/Explosion\n",
              "120850         Restaurants        1            Bombing/Explosion\n",
              "120851         Restaurants        1            Bombing/Explosion\n",
              "120852         Restaurants        1            Bombing/Explosion\n",
              "120853   Shia Neighborhood        1            Bombing/Explosion\n",
              "120854      Police Station        1            Bombing/Explosion\n",
              "120855      Ice Cream Shop        1            Bombing/Explosion\n",
              "120856      Shia Civilians        1            Bombing/Explosion\n",
              "120857   Shia Neighborhood        1            Bombing/Explosion\n",
              "120858   Shia Neighborhood        1            Bombing/Explosion\n",
              "120860   Shia Neighborhood        1            Bombing/Explosion\n",
              "120861  Sunni Neighborhood        1            Bombing/Explosion\n",
              "120862      Shia Civilians        1            Bombing/Explosion\n",
              "120863          Restaurant        1            Bombing/Explosion\n",
              "121684        Headquarters        1            Bombing/Explosion\n",
              "121699           Civilians        1            Bombing/Explosion\n",
              "121700    Vegetable Market        1            Bombing/Explosion\n",
              "121701           Civilians        1            Bombing/Explosion\n",
              "121702           Civilians        1            Bombing/Explosion\n",
              "121703           Civilians        1            Bombing/Explosion\n",
              "121704           Civilians        1            Bombing/Explosion\n",
              "121705           Civilians        1            Bombing/Explosion\n",
              "121706           Civilians        1            Bombing/Explosion\n",
              "121707           Civilians        1            Bombing/Explosion\n",
              "121712           Civilians        1            Bombing/Explosion\n",
              "121713           Civilians        1            Bombing/Explosion\n",
              "121714           Civilians        1            Bombing/Explosion\n",
              "121715      Shia Civilians        1            Bombing/Explosion\n",
              "121742           Civilians        1            Bombing/Explosion\n",
              "121743           Civilians        1            Bombing/Explosion\n",
              "176989           Civilians        1            Bombing/Explosion\n",
              "177651            Preacher        1  Hostage Taking (Kidnapping)\n",
              "179019                Road        0                      Unknown"
            ]
          },
          "metadata": {
            "tags": []
          },
          "execution_count": 42
        }
      ]
    },
    {
      "cell_type": "markdown",
      "metadata": {
        "id": "c6iweCrbrE-Y"
      },
      "source": [
        "From the data, we observe the Siite Neighborhood and civilians are ISIL's targets."
      ]
    },
    {
      "cell_type": "markdown",
      "metadata": {
        "id": "_cTGPRWUrE-Y"
      },
      "source": [
        "_Let us take a look at the most targeted states/provinces in Iraq by ISIL_"
      ]
    },
    {
      "cell_type": "code",
      "metadata": {
        "colab": {
          "base_uri": "https://localhost:8080/",
          "height": 279
        },
        "id": "jfqtD0p-rE-Z",
        "outputId": "b05b851b-441a-40a0-9062-ce78c2dbde9b"
      },
      "source": [
        "data = dict(isis_iraq_data['provstate'].value_counts())\n",
        "x = list(data.keys())\n",
        "y = list(data.values())\n",
        "d = pd.DataFrame({'Place':x, 'Num Cases':y})\n",
        "\n",
        "sns.barplot(data=d[:10], x='Place', y='Num Cases') #Display top 10\n",
        "plt.show()"
      ],
      "execution_count": 43,
      "outputs": [
        {
          "output_type": "display_data",
          "data": {
            "image/png": "[encoded data removed]",
            "text/plain": [
              "<Figure size 432x288 with 1 Axes>"
            ]
          },
          "metadata": {
            "tags": [],
            "needs_background": "light"
          }
        }
      ]
    },
    {
      "cell_type": "markdown",
      "metadata": {
        "id": "B4iPG_j0rE-a"
      },
      "source": [
        "The graph above displays the cities with the most number of terror attacks by ISIL. \n",
        "_What about Number of kills since ISIL's founding in 2013?_"
      ]
    },
    {
      "cell_type": "code",
      "metadata": {
        "colab": {
          "base_uri": "https://localhost:8080/",
          "height": 279
        },
        "id": "vItMI3N1rE-b",
        "outputId": "397cf62a-ba3f-4ef6-88c9-61f84f1b21e4"
      },
      "source": [
        "data = pd.DataFrame(columns=['Place', 'Num Kills'])\n",
        "\n",
        "i=0\n",
        "for place in isis_iraq_data['provstate'].unique():\n",
        "    num_kills = 0\n",
        "    \n",
        "    for year in range(2013,2017):\n",
        "        num_kills += sum(isis_iraq_data['nkill'][(isis_iraq_data['iyear'] == year) & (isis_iraq_data['provstate'] == place)].dropna())\n",
        "        \n",
        "    data.loc[i] = [place, num_kills]\n",
        "    i+=1\n",
        "        \n",
        "data = data.sort_values(by='Num Kills', ascending=False) \n",
        "sns.barplot(data=data[:10], x='Place', y='Num Kills') #Display top 10\n",
        "plt.show()"
      ],
      "execution_count": 44,
      "outputs": [
        {
          "output_type": "display_data",
          "data": {
            "image/png": "[encoded data removed]",
            "text/plain": [
              "<Figure size 432x288 with 1 Axes>"
            ]
          },
          "metadata": {
            "tags": [],
            "needs_background": "light"
          }
        }
      ]
    },
    {
      "cell_type": "markdown",
      "metadata": {
        "id": "3kP19c8nrE-c"
      },
      "source": [
        "Looks like Al Anbar, Nineveh, Saladin & Baghdad suffer the most fatalities with at least $3,000$ lives claimed in each city since 2013 by ISIL.\n",
        "\n",
        "_How has the number of fatalities varied over the course of 4 years: 2013-2016?_"
      ]
    },
    {
      "cell_type": "code",
      "metadata": {
        "colab": {
          "base_uri": "https://localhost:8080/",
          "height": 669
        },
        "id": "T8ktb0rnrE-c",
        "outputId": "ba50cd67-9acd-49c6-db10-0def7fb7b858"
      },
      "source": [
        "data = pd.DataFrame(columns=['Place', '2013', '2014', '2015', '2016', 'Total Kills'])\n",
        "\n",
        "i=0\n",
        "for place in isis_iraq_data['provstate'].unique():\n",
        "    num_kills = []\n",
        "    \n",
        "    for year in range(2013,2017):\n",
        "        num_kills.append(sum(isis_iraq_data['nkill'][(isis_iraq_data['iyear'] == year) & (isis_iraq_data['provstate'] == place)].dropna()))\n",
        "        \n",
        "    data.loc[i] = [place, num_kills[0], num_kills[1], num_kills[2], num_kills[3], sum(num_kills)]\n",
        "    i+=1\n",
        "        \n",
        "data = data.sort_values(by='Total Kills', ascending=False) \n",
        "data"
      ],
      "execution_count": 45,
      "outputs": [
        {
          "output_type": "execute_result",
          "data": {
            "text/html": [
              "<div>\n",
              "<style scoped>\n",
              "    .dataframe tbody tr th:only-of-type {\n",
              "        vertical-align: middle;\n",
              "    }\n",
              "\n",
              "    .dataframe tbody tr th {\n",
              "        vertical-align: top;\n",
              "    }\n",
              "\n",
              "    .dataframe thead th {\n",
              "        text-align: right;\n",
              "    }\n",
              "</style>\n",
              "<table border=\"1\" class=\"dataframe\">\n",
              "  <thead>\n",
              "    <tr style=\"text-align: right;\">\n",
              "      <th></th>\n",
              "      <th>Place</th>\n",
              "      <th>2013</th>\n",
              "      <th>2014</th>\n",
              "      <th>2015</th>\n",
              "      <th>2016</th>\n",
              "      <th>Total Kills</th>\n",
              "    </tr>\n",
              "  </thead>\n",
              "  <tbody>\n",
              "    <tr>\n",
              "      <th>3</th>\n",
              "      <td>Nineveh</td>\n",
              "      <td>100.0</td>\n",
              "      <td>2762.0</td>\n",
              "      <td>570.0</td>\n",
              "      <td>3728.0</td>\n",
              "      <td>7160.0</td>\n",
              "    </tr>\n",
              "    <tr>\n",
              "      <th>5</th>\n",
              "      <td>Al Anbar</td>\n",
              "      <td>61.0</td>\n",
              "      <td>1374.0</td>\n",
              "      <td>2829.0</td>\n",
              "      <td>2405.0</td>\n",
              "      <td>6669.0</td>\n",
              "    </tr>\n",
              "    <tr>\n",
              "      <th>2</th>\n",
              "      <td>Saladin</td>\n",
              "      <td>222.0</td>\n",
              "      <td>2290.0</td>\n",
              "      <td>947.0</td>\n",
              "      <td>1082.0</td>\n",
              "      <td>4541.0</td>\n",
              "    </tr>\n",
              "    <tr>\n",
              "      <th>0</th>\n",
              "      <td>Baghdad</td>\n",
              "      <td>561.0</td>\n",
              "      <td>936.0</td>\n",
              "      <td>601.0</td>\n",
              "      <td>956.0</td>\n",
              "      <td>3054.0</td>\n",
              "    </tr>\n",
              "    <tr>\n",
              "      <th>4</th>\n",
              "      <td>Diyala</td>\n",
              "      <td>182.0</td>\n",
              "      <td>538.0</td>\n",
              "      <td>548.0</td>\n",
              "      <td>175.0</td>\n",
              "      <td>1443.0</td>\n",
              "    </tr>\n",
              "    <tr>\n",
              "      <th>14</th>\n",
              "      <td>Kirkuk</td>\n",
              "      <td>38.0</td>\n",
              "      <td>185.0</td>\n",
              "      <td>273.0</td>\n",
              "      <td>546.0</td>\n",
              "      <td>1042.0</td>\n",
              "    </tr>\n",
              "    <tr>\n",
              "      <th>1</th>\n",
              "      <td>Babil</td>\n",
              "      <td>78.0</td>\n",
              "      <td>378.0</td>\n",
              "      <td>45.0</td>\n",
              "      <td>225.0</td>\n",
              "      <td>726.0</td>\n",
              "    </tr>\n",
              "    <tr>\n",
              "      <th>10</th>\n",
              "      <td>Arbil</td>\n",
              "      <td>14.0</td>\n",
              "      <td>11.0</td>\n",
              "      <td>151.0</td>\n",
              "      <td>284.0</td>\n",
              "      <td>460.0</td>\n",
              "    </tr>\n",
              "    <tr>\n",
              "      <th>13</th>\n",
              "      <td>Karbala</td>\n",
              "      <td>13.0</td>\n",
              "      <td>42.0</td>\n",
              "      <td>0.0</td>\n",
              "      <td>56.0</td>\n",
              "      <td>111.0</td>\n",
              "    </tr>\n",
              "    <tr>\n",
              "      <th>18</th>\n",
              "      <td>Unknown</td>\n",
              "      <td>0.0</td>\n",
              "      <td>58.0</td>\n",
              "      <td>2.0</td>\n",
              "      <td>0.0</td>\n",
              "      <td>60.0</td>\n",
              "    </tr>\n",
              "    <tr>\n",
              "      <th>12</th>\n",
              "      <td>Muthanna</td>\n",
              "      <td>3.0</td>\n",
              "      <td>3.0</td>\n",
              "      <td>0.0</td>\n",
              "      <td>38.0</td>\n",
              "      <td>44.0</td>\n",
              "    </tr>\n",
              "    <tr>\n",
              "      <th>6</th>\n",
              "      <td>Wasit</td>\n",
              "      <td>29.0</td>\n",
              "      <td>9.0</td>\n",
              "      <td>0.0</td>\n",
              "      <td>0.0</td>\n",
              "      <td>38.0</td>\n",
              "    </tr>\n",
              "    <tr>\n",
              "      <th>7</th>\n",
              "      <td>Basra</td>\n",
              "      <td>19.0</td>\n",
              "      <td>0.0</td>\n",
              "      <td>10.0</td>\n",
              "      <td>6.0</td>\n",
              "      <td>35.0</td>\n",
              "    </tr>\n",
              "    <tr>\n",
              "      <th>8</th>\n",
              "      <td>Dhi Qar</td>\n",
              "      <td>15.0</td>\n",
              "      <td>0.0</td>\n",
              "      <td>0.0</td>\n",
              "      <td>18.0</td>\n",
              "      <td>33.0</td>\n",
              "    </tr>\n",
              "    <tr>\n",
              "      <th>16</th>\n",
              "      <td>NIneveh</td>\n",
              "      <td>0.0</td>\n",
              "      <td>15.0</td>\n",
              "      <td>0.0</td>\n",
              "      <td>0.0</td>\n",
              "      <td>15.0</td>\n",
              "    </tr>\n",
              "    <tr>\n",
              "      <th>17</th>\n",
              "      <td>Sulaymaniyah</td>\n",
              "      <td>0.0</td>\n",
              "      <td>3.0</td>\n",
              "      <td>0.0</td>\n",
              "      <td>7.0</td>\n",
              "      <td>10.0</td>\n",
              "    </tr>\n",
              "    <tr>\n",
              "      <th>9</th>\n",
              "      <td>Najaf</td>\n",
              "      <td>8.0</td>\n",
              "      <td>0.0</td>\n",
              "      <td>0.0</td>\n",
              "      <td>0.0</td>\n",
              "      <td>8.0</td>\n",
              "    </tr>\n",
              "    <tr>\n",
              "      <th>11</th>\n",
              "      <td>Maysan</td>\n",
              "      <td>4.0</td>\n",
              "      <td>0.0</td>\n",
              "      <td>0.0</td>\n",
              "      <td>0.0</td>\n",
              "      <td>4.0</td>\n",
              "    </tr>\n",
              "    <tr>\n",
              "      <th>19</th>\n",
              "      <td>Dihok</td>\n",
              "      <td>0.0</td>\n",
              "      <td>0.0</td>\n",
              "      <td>0.0</td>\n",
              "      <td>2.0</td>\n",
              "      <td>2.0</td>\n",
              "    </tr>\n",
              "    <tr>\n",
              "      <th>15</th>\n",
              "      <td>Al Qadisiyah</td>\n",
              "      <td>0.0</td>\n",
              "      <td>0.0</td>\n",
              "      <td>0.0</td>\n",
              "      <td>0.0</td>\n",
              "      <td>0.0</td>\n",
              "    </tr>\n",
              "  </tbody>\n",
              "</table>\n",
              "</div>"
            ],
            "text/plain": [
              "           Place   2013    2014    2015    2016  Total Kills\n",
              "3        Nineveh  100.0  2762.0   570.0  3728.0       7160.0\n",
              "5       Al Anbar   61.0  1374.0  2829.0  2405.0       6669.0\n",
              "2        Saladin  222.0  2290.0   947.0  1082.0       4541.0\n",
              "0        Baghdad  561.0   936.0   601.0   956.0       3054.0\n",
              "4         Diyala  182.0   538.0   548.0   175.0       1443.0\n",
              "14        Kirkuk   38.0   185.0   273.0   546.0       1042.0\n",
              "1          Babil   78.0   378.0    45.0   225.0        726.0\n",
              "10         Arbil   14.0    11.0   151.0   284.0        460.0\n",
              "13       Karbala   13.0    42.0     0.0    56.0        111.0\n",
              "18       Unknown    0.0    58.0     2.0     0.0         60.0\n",
              "12      Muthanna    3.0     3.0     0.0    38.0         44.0\n",
              "6          Wasit   29.0     9.0     0.0     0.0         38.0\n",
              "7          Basra   19.0     0.0    10.0     6.0         35.0\n",
              "8        Dhi Qar   15.0     0.0     0.0    18.0         33.0\n",
              "16       NIneveh    0.0    15.0     0.0     0.0         15.0\n",
              "17  Sulaymaniyah    0.0     3.0     0.0     7.0         10.0\n",
              "9          Najaf    8.0     0.0     0.0     0.0          8.0\n",
              "11        Maysan    4.0     0.0     0.0     0.0          4.0\n",
              "19         Dihok    0.0     0.0     0.0     2.0          2.0\n",
              "15  Al Qadisiyah    0.0     0.0     0.0     0.0          0.0"
            ]
          },
          "metadata": {
            "tags": []
          },
          "execution_count": 45
        }
      ]
    },
    {
      "cell_type": "markdown",
      "metadata": {
        "id": "Lf5MNxIOrE-d"
      },
      "source": [
        "For easier comparison, we will construct a multi-bar plot. Pandas constructs such plots by initially reshaping the dataframe using pandas' _melt_ method [3]. \n",
        "\n",
        "This function increases the number of rows and combines columns 2013 to 2016 under a common _Year_ banner. I have displayed the example output of the function after excluding some minor cities."
      ]
    },
    {
      "cell_type": "code",
      "metadata": {
        "colab": {
          "base_uri": "https://localhost:8080/",
          "height": 979
        },
        "id": "qnixQCZ0rE-e",
        "outputId": "10996337-6d4a-4c4e-be20-261c92328465"
      },
      "source": [
        "df = pd.melt(data, id_vars=\"Place\", var_name=\"Year\", value_name=\"Kill Count\")\n",
        "places = df[ (~df['Place'].isin(['Wasit', 'Basra', 'Dhi Qar', 'Najaf', 'Maysan', 'Muthanna','Kirkuk', \n",
        "                                 'Al Qadisiyah', 'NIneveh', 'Sulaymaniyah','Unknown', 'Dihok'])) & \n",
        "             (~df['Year'].str.contains('Total Kills'))] #Exclude certain places\n",
        "\n",
        "df[:30] #Just the first 30 entries for understanding"
      ],
      "execution_count": 46,
      "outputs": [
        {
          "output_type": "execute_result",
          "data": {
            "text/html": [
              "<div>\n",
              "<style scoped>\n",
              "    .dataframe tbody tr th:only-of-type {\n",
              "        vertical-align: middle;\n",
              "    }\n",
              "\n",
              "    .dataframe tbody tr th {\n",
              "        vertical-align: top;\n",
              "    }\n",
              "\n",
              "    .dataframe thead th {\n",
              "        text-align: right;\n",
              "    }\n",
              "</style>\n",
              "<table border=\"1\" class=\"dataframe\">\n",
              "  <thead>\n",
              "    <tr style=\"text-align: right;\">\n",
              "      <th></th>\n",
              "      <th>Place</th>\n",
              "      <th>Year</th>\n",
              "      <th>Kill Count</th>\n",
              "    </tr>\n",
              "  </thead>\n",
              "  <tbody>\n",
              "    <tr>\n",
              "      <th>0</th>\n",
              "      <td>Nineveh</td>\n",
              "      <td>2013</td>\n",
              "      <td>100.0</td>\n",
              "    </tr>\n",
              "    <tr>\n",
              "      <th>1</th>\n",
              "      <td>Al Anbar</td>\n",
              "      <td>2013</td>\n",
              "      <td>61.0</td>\n",
              "    </tr>\n",
              "    <tr>\n",
              "      <th>2</th>\n",
              "      <td>Saladin</td>\n",
              "      <td>2013</td>\n",
              "      <td>222.0</td>\n",
              "    </tr>\n",
              "    <tr>\n",
              "      <th>3</th>\n",
              "      <td>Baghdad</td>\n",
              "      <td>2013</td>\n",
              "      <td>561.0</td>\n",
              "    </tr>\n",
              "    <tr>\n",
              "      <th>4</th>\n",
              "      <td>Diyala</td>\n",
              "      <td>2013</td>\n",
              "      <td>182.0</td>\n",
              "    </tr>\n",
              "    <tr>\n",
              "      <th>5</th>\n",
              "      <td>Kirkuk</td>\n",
              "      <td>2013</td>\n",
              "      <td>38.0</td>\n",
              "    </tr>\n",
              "    <tr>\n",
              "      <th>6</th>\n",
              "      <td>Babil</td>\n",
              "      <td>2013</td>\n",
              "      <td>78.0</td>\n",
              "    </tr>\n",
              "    <tr>\n",
              "      <th>7</th>\n",
              "      <td>Arbil</td>\n",
              "      <td>2013</td>\n",
              "      <td>14.0</td>\n",
              "    </tr>\n",
              "    <tr>\n",
              "      <th>8</th>\n",
              "      <td>Karbala</td>\n",
              "      <td>2013</td>\n",
              "      <td>13.0</td>\n",
              "    </tr>\n",
              "    <tr>\n",
              "      <th>9</th>\n",
              "      <td>Unknown</td>\n",
              "      <td>2013</td>\n",
              "      <td>0.0</td>\n",
              "    </tr>\n",
              "    <tr>\n",
              "      <th>10</th>\n",
              "      <td>Muthanna</td>\n",
              "      <td>2013</td>\n",
              "      <td>3.0</td>\n",
              "    </tr>\n",
              "    <tr>\n",
              "      <th>11</th>\n",
              "      <td>Wasit</td>\n",
              "      <td>2013</td>\n",
              "      <td>29.0</td>\n",
              "    </tr>\n",
              "    <tr>\n",
              "      <th>12</th>\n",
              "      <td>Basra</td>\n",
              "      <td>2013</td>\n",
              "      <td>19.0</td>\n",
              "    </tr>\n",
              "    <tr>\n",
              "      <th>13</th>\n",
              "      <td>Dhi Qar</td>\n",
              "      <td>2013</td>\n",
              "      <td>15.0</td>\n",
              "    </tr>\n",
              "    <tr>\n",
              "      <th>14</th>\n",
              "      <td>NIneveh</td>\n",
              "      <td>2013</td>\n",
              "      <td>0.0</td>\n",
              "    </tr>\n",
              "    <tr>\n",
              "      <th>15</th>\n",
              "      <td>Sulaymaniyah</td>\n",
              "      <td>2013</td>\n",
              "      <td>0.0</td>\n",
              "    </tr>\n",
              "    <tr>\n",
              "      <th>16</th>\n",
              "      <td>Najaf</td>\n",
              "      <td>2013</td>\n",
              "      <td>8.0</td>\n",
              "    </tr>\n",
              "    <tr>\n",
              "      <th>17</th>\n",
              "      <td>Maysan</td>\n",
              "      <td>2013</td>\n",
              "      <td>4.0</td>\n",
              "    </tr>\n",
              "    <tr>\n",
              "      <th>18</th>\n",
              "      <td>Dihok</td>\n",
              "      <td>2013</td>\n",
              "      <td>0.0</td>\n",
              "    </tr>\n",
              "    <tr>\n",
              "      <th>19</th>\n",
              "      <td>Al Qadisiyah</td>\n",
              "      <td>2013</td>\n",
              "      <td>0.0</td>\n",
              "    </tr>\n",
              "    <tr>\n",
              "      <th>20</th>\n",
              "      <td>Nineveh</td>\n",
              "      <td>2014</td>\n",
              "      <td>2762.0</td>\n",
              "    </tr>\n",
              "    <tr>\n",
              "      <th>21</th>\n",
              "      <td>Al Anbar</td>\n",
              "      <td>2014</td>\n",
              "      <td>1374.0</td>\n",
              "    </tr>\n",
              "    <tr>\n",
              "      <th>22</th>\n",
              "      <td>Saladin</td>\n",
              "      <td>2014</td>\n",
              "      <td>2290.0</td>\n",
              "    </tr>\n",
              "    <tr>\n",
              "      <th>23</th>\n",
              "      <td>Baghdad</td>\n",
              "      <td>2014</td>\n",
              "      <td>936.0</td>\n",
              "    </tr>\n",
              "    <tr>\n",
              "      <th>24</th>\n",
              "      <td>Diyala</td>\n",
              "      <td>2014</td>\n",
              "      <td>538.0</td>\n",
              "    </tr>\n",
              "    <tr>\n",
              "      <th>25</th>\n",
              "      <td>Kirkuk</td>\n",
              "      <td>2014</td>\n",
              "      <td>185.0</td>\n",
              "    </tr>\n",
              "    <tr>\n",
              "      <th>26</th>\n",
              "      <td>Babil</td>\n",
              "      <td>2014</td>\n",
              "      <td>378.0</td>\n",
              "    </tr>\n",
              "    <tr>\n",
              "      <th>27</th>\n",
              "      <td>Arbil</td>\n",
              "      <td>2014</td>\n",
              "      <td>11.0</td>\n",
              "    </tr>\n",
              "    <tr>\n",
              "      <th>28</th>\n",
              "      <td>Karbala</td>\n",
              "      <td>2014</td>\n",
              "      <td>42.0</td>\n",
              "    </tr>\n",
              "    <tr>\n",
              "      <th>29</th>\n",
              "      <td>Unknown</td>\n",
              "      <td>2014</td>\n",
              "      <td>58.0</td>\n",
              "    </tr>\n",
              "  </tbody>\n",
              "</table>\n",
              "</div>"
            ],
            "text/plain": [
              "           Place  Year  Kill Count\n",
              "0        Nineveh  2013       100.0\n",
              "1       Al Anbar  2013        61.0\n",
              "2        Saladin  2013       222.0\n",
              "3        Baghdad  2013       561.0\n",
              "4         Diyala  2013       182.0\n",
              "5         Kirkuk  2013        38.0\n",
              "6          Babil  2013        78.0\n",
              "7          Arbil  2013        14.0\n",
              "8        Karbala  2013        13.0\n",
              "9        Unknown  2013         0.0\n",
              "10      Muthanna  2013         3.0\n",
              "11         Wasit  2013        29.0\n",
              "12         Basra  2013        19.0\n",
              "13       Dhi Qar  2013        15.0\n",
              "14       NIneveh  2013         0.0\n",
              "15  Sulaymaniyah  2013         0.0\n",
              "16         Najaf  2013         8.0\n",
              "17        Maysan  2013         4.0\n",
              "18         Dihok  2013         0.0\n",
              "19  Al Qadisiyah  2013         0.0\n",
              "20       Nineveh  2014      2762.0\n",
              "21      Al Anbar  2014      1374.0\n",
              "22       Saladin  2014      2290.0\n",
              "23       Baghdad  2014       936.0\n",
              "24        Diyala  2014       538.0\n",
              "25        Kirkuk  2014       185.0\n",
              "26         Babil  2014       378.0\n",
              "27         Arbil  2014        11.0\n",
              "28       Karbala  2014        42.0\n",
              "29       Unknown  2014        58.0"
            ]
          },
          "metadata": {
            "tags": []
          },
          "execution_count": 46
        }
      ]
    },
    {
      "cell_type": "markdown",
      "metadata": {
        "id": "4lD3Gwb4rE-e"
      },
      "source": [
        "Since there are going to be a ton of bar graphs on a single graph, I resize the chart using matplotlib's pyplot. At the time of writing this post, there is no way to vary plot sizes in seaborn."
      ]
    },
    {
      "cell_type": "code",
      "metadata": {
        "colab": {
          "base_uri": "https://localhost:8080/",
          "height": 955
        },
        "id": "yPjikB6jrE-f",
        "outputId": "fac9aa29-56cd-4e60-84b1-e2df7aba4d15"
      },
      "source": [
        "# Make the plot bigger\n",
        "a4_dims = (13, 8.27)\n",
        "fig, ax = plt.subplots(figsize=a4_dims)\n",
        "\n",
        "sns.factorplot(x='Place', y='Kill Count', hue='Year', data=places, kind='bar', ax=ax)\n",
        "plt.show()"
      ],
      "execution_count": 47,
      "outputs": [
        {
          "output_type": "stream",
          "text": [
            "/usr/local/lib/python3.6/dist-packages/seaborn/categorical.py:3704: UserWarning: The `factorplot` function has been renamed to `catplot`. The original name will be removed in a future release. Please update your code. Note that the default `kind` in `factorplot` (`'point'`) has changed `'strip'` in `catplot`.\n",
            "  warnings.warn(msg)\n",
            "/usr/local/lib/python3.6/dist-packages/seaborn/categorical.py:3762: UserWarning: catplot is a figure-level function and does not accept target axes. You may wish to try barplot\n",
            "  warnings.warn(msg, UserWarning)\n"
          ],
          "name": "stderr"
        },
        {
          "output_type": "display_data",
          "data": {
            "image/png": "[encoded data removed]",
            "text/plain": [
              "<Figure size 936x595.44 with 1 Axes>"
            ]
          },
          "metadata": {
            "tags": [],
            "needs_background": "light"
          }
        },
        {
          "output_type": "display_data",
          "data": {
            "image/png": "[encoded data removed]",
            "text/plain": [
              "<Figure size 421.375x360 with 1 Axes>"
            ]
          },
          "metadata": {
            "tags": [],
            "needs_background": "light"
          }
        }
      ]
    },
    {
      "cell_type": "markdown",
      "metadata": {
        "id": "CwVIWIGVrE-g"
      },
      "source": [
        "Although the total number of fatalities in Nineveh is less than that in Al Anbar, many more people died in Nineveh than any other city by far in 2016. Al Anbar actually saw more fatalities in the previous year."
      ]
    },
    {
      "cell_type": "markdown",
      "metadata": {
        "id": "2HNmD2W-rE-g"
      },
      "source": [
        "We can go on answering questions by analyzing data for a single Terror group in a single country. Thought this was a better approach than just getting a partial birdseye view of the data."
      ]
    },
    {
      "cell_type": "markdown",
      "metadata": {
        "id": "ULI87BQLrE-h"
      },
      "source": [
        "## References\n",
        "\n",
        "[1]  [Timeline of ISIL Related Events](https://en.wikipedia.org/wiki/Timeline_of_ISIL-related_events)\n",
        "\n",
        "[2]  [List of part of speech tagging terms](https://pythonprogramming.net/natural-language-toolkit-nltk-part-speech-tagging/)\n",
        "\n",
        "[3]   [Seaborn: Multiple barplots](https://stackoverflow.com/questions/38807895/seaborn-multiple-barplots)"
      ]
    }
  ]
}